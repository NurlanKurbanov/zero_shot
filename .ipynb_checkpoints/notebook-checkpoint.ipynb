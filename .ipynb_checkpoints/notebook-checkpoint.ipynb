{
 "cells": [
  {
   "cell_type": "markdown",
   "id": "85cd1f49-46ca-44aa-89ba-1563ffb7b242",
   "metadata": {
    "tags": []
   },
   "source": [
    "# датасеты"
   ]
  },
  {
   "cell_type": "code",
   "execution_count": 1,
   "id": "c1924b5f-d7e3-4e89-88d3-72e69e865329",
   "metadata": {},
   "outputs": [],
   "source": [
    "import numpy as np \n",
    "import pandas as pd"
   ]
  },
  {
   "cell_type": "code",
   "execution_count": 2,
   "id": "a5c0f33f-041c-4bd8-b37e-f11470daba15",
   "metadata": {},
   "outputs": [],
   "source": [
    "df_bar1 = pd.read_excel('tr_bar_text.xlsx')\n",
    "df_bar2 = pd.read_excel('tr_bar_reddit.xlsx')\n",
    "df_depr1 = pd.read_excel('tr_depr_text.xlsx')\n",
    "df_depr2 = pd.read_excel('tr_depr_reddit.xlsx')\n",
    "df_okr1 = pd.read_excel('tr_okr_text_clear.xlsx')\n",
    "df_okr2 = pd.read_excel('tr_okr_reddit.xlsx')\n",
    "df_rpp1 = pd.read_excel('tr_rpp_text.xlsx')\n",
    "df_rpp2 = pd.read_excel('tr_rpp_reddit.xlsx')\n",
    "df_shiz1 = pd.read_excel('tr_shiz_text.xlsx')\n",
    "df_shiz2 = pd.read_excel('tr_shiz_reddit.xlsx')"
   ]
  },
  {
   "cell_type": "code",
   "execution_count": 3,
   "id": "23b983f0-3657-49db-9556-ace7621d6ec4",
   "metadata": {},
   "outputs": [],
   "source": [
    "df_bar = pd.concat([df_bar1, df_bar2])\n",
    "df_depr = pd.concat([df_depr1, df_depr2])\n",
    "df_okr = pd.concat([df_okr1, df_okr2])\n",
    "df_rpp = pd.concat([df_rpp1, df_rpp2])\n",
    "df_shiz = pd.concat([df_shiz1, df_shiz2])"
   ]
  },
  {
   "cell_type": "code",
   "execution_count": 4,
   "id": "4102a3f6-98c4-4317-826a-b9c006b75d28",
   "metadata": {},
   "outputs": [],
   "source": [
    "df_bar = df_bar.dropna()\n",
    "df_bar.reset_index(drop=True, inplace=True)\n",
    "df_depr = df_depr.dropna()\n",
    "df_depr.reset_index(drop=True, inplace=True)\n",
    "df_okr = df_okr.dropna()\n",
    "df_okr.reset_index(drop=True, inplace=True)\n",
    "df_rpp = df_rpp.dropna()\n",
    "df_rpp.reset_index(drop=True, inplace=True)\n",
    "df_shiz = df_shiz.dropna()\n",
    "df_shiz.reset_index(drop=True, inplace=True)"
   ]
  },
  {
   "cell_type": "code",
   "execution_count": 5,
   "id": "29de61a3-9075-432a-9c55-26f3fea116b3",
   "metadata": {},
   "outputs": [],
   "source": [
    "import random\n",
    "def transform_datasets(df_list):\n",
    "    new_df_list = []\n",
    "    for elem in df_list:\n",
    "        q = elem[['text_tr', 'label_tr']].assign(label=0)\n",
    "        q = q.rename(columns={'text_tr': 'text1', 'label_tr': 'text2'})\n",
    "        new_df_list.append(q)\n",
    "\n",
    "    l = len(new_df_list)\n",
    "    for df_id, df in enumerate(new_df_list):\n",
    "        df_len = len(df)\n",
    "        df_diag = df['text2'][0]\n",
    "        for _ in range(df_len):\n",
    "            q = list(range(l))\n",
    "            q.remove(df_id)\n",
    "            random_df_number = random.choice(q)\n",
    "            random_row_number = random.choice(range(len(new_df_list[random_df_number])))\n",
    "            new_row = pd.DataFrame([[new_df_list[random_df_number]['text1'][random_row_number], df_diag, 2]], columns=['text1', 'text2', 'label'])\n",
    "            df = pd.concat([df, new_row], ignore_index=True)\n",
    "            new_df_list[df_id] = df\n",
    "    \n",
    "    for df_id, df in enumerate(new_df_list):\n",
    "        df = df.sample(frac=1).reset_index(drop=True)\n",
    "        new_df_list[df_id] = df\n",
    "        \n",
    "    return new_df_list"
   ]
  },
  {
   "cell_type": "markdown",
   "id": "9d435516-0b50-4daa-af2d-c2562cd8f071",
   "metadata": {
    "tags": []
   },
   "source": [
    "# Очистка"
   ]
  },
  {
   "cell_type": "code",
   "execution_count": 6,
   "id": "6d62504b-f22d-4460-96de-02c0950eeb88",
   "metadata": {},
   "outputs": [
    {
     "name": "stderr",
     "output_type": "stream",
     "text": [
      "D:\\Users\\Nurlan\\miniconda3\\lib\\site-packages\\scipy\\__init__.py:146: UserWarning: A NumPy version >=1.16.5 and <1.23.0 is required for this version of SciPy (detected version 1.24.3\n",
      "  warnings.warn(f\"A NumPy version >={np_minversion} and <{np_maxversion}\"\n"
     ]
    }
   ],
   "source": [
    "from tqdm import tqdm\n",
    "import re\n",
    "import nltk\n",
    "from nltk.tokenize import sent_tokenize, word_tokenize"
   ]
  },
  {
   "cell_type": "code",
   "execution_count": 7,
   "id": "e562cedf-8fcc-4f4e-96c4-a9e687d077dd",
   "metadata": {},
   "outputs": [],
   "source": [
    "from nltk.corpus import stopwords\n",
    "stop_words = stopwords.words(\"russian\")"
   ]
  },
  {
   "cell_type": "code",
   "execution_count": 8,
   "id": "0379a3ee-6930-41d9-8af5-550bf1f33add",
   "metadata": {},
   "outputs": [
    {
     "data": {
      "text/plain": [
       "151"
      ]
     },
     "execution_count": 8,
     "metadata": {},
     "output_type": "execute_result"
    }
   ],
   "source": [
    "len(stop_words)"
   ]
  },
  {
   "cell_type": "code",
   "execution_count": 9,
   "id": "4405d019-6eac-4f1e-aebe-fbd4648d56da",
   "metadata": {},
   "outputs": [],
   "source": [
    "import pymorphy2\n",
    "morph = pymorphy2.MorphAnalyzer()"
   ]
  },
  {
   "cell_type": "code",
   "execution_count": 10,
   "id": "99b0fea3-a0f7-4c0e-9f5c-0ad7b1ce4dc6",
   "metadata": {},
   "outputs": [],
   "source": [
    "def clean(df):\n",
    "    for i in tqdm(range(df.shape[0])):\n",
    "        s = str(df['text'][i])\n",
    "        s = s.lower()\n",
    "        s = re.sub(r\"[,-.:;?“/!@#$1234567890#—ツ►๑۩۞۩•*”˜˜”*°°*`)(abcdefghijklmnopqrstuvwxyz]\", ' ', s)\n",
    "        tokens = word_tokenize(s)\n",
    "        tokens = [w for w in tokens if not w in stop_words]\n",
    "        for j in range(0,len(tokens)):\n",
    "            tokens[j] = morph.parse(tokens[j])[0].normal_form\n",
    "        s_cleared = ' '.join(tokens)\n",
    "        df.loc[i, 'text'] = s_cleared"
   ]
  },
  {
   "cell_type": "code",
   "execution_count": 11,
   "id": "1b7a81dd-834c-4c02-bbaa-930c1602ad7c",
   "metadata": {},
   "outputs": [
    {
     "name": "stderr",
     "output_type": "stream",
     "text": [
      "100%|████████████████████████████████████████████████████████████████████████████████| 228/228 [00:04<00:00, 49.96it/s]\n"
     ]
    }
   ],
   "source": [
    "clean(df_bar)"
   ]
  },
  {
   "cell_type": "code",
   "execution_count": 12,
   "id": "57f3efea-aa38-4b1b-8e39-4fb27e63cc0c",
   "metadata": {},
   "outputs": [
    {
     "name": "stderr",
     "output_type": "stream",
     "text": [
      "100%|████████████████████████████████████████████████████████████████████████████████| 621/621 [00:09<00:00, 63.23it/s]\n"
     ]
    }
   ],
   "source": [
    "clean(df_depr)"
   ]
  },
  {
   "cell_type": "code",
   "execution_count": 13,
   "id": "a4140c10-9c61-4be7-9280-0b20d51dfc34",
   "metadata": {},
   "outputs": [
    {
     "name": "stderr",
     "output_type": "stream",
     "text": [
      "100%|████████████████████████████████████████████████████████████████████████████████| 367/367 [00:08<00:00, 44.40it/s]\n"
     ]
    }
   ],
   "source": [
    "clean(df_rpp)"
   ]
  },
  {
   "cell_type": "code",
   "execution_count": 14,
   "id": "9f82fbf5-e5a5-4624-a7f9-cc834fa5ceea",
   "metadata": {},
   "outputs": [
    {
     "name": "stderr",
     "output_type": "stream",
     "text": [
      "100%|████████████████████████████████████████████████████████████████████████████████| 612/612 [00:10<00:00, 57.64it/s]\n"
     ]
    }
   ],
   "source": [
    "clean(df_shiz)"
   ]
  },
  {
   "cell_type": "code",
   "execution_count": 15,
   "id": "95d275be-70d9-4807-b354-4a1e97d72e95",
   "metadata": {},
   "outputs": [],
   "source": [
    "def clean_(df):\n",
    "    for i in tqdm(range(df.shape[0])):\n",
    "        s = str(df['text'][i])\n",
    "        s = s.lower()\n",
    "        s = re.sub(r\"[,-.:;?“/!@#—ツ►๑۩۞۩•*”˜˜”*°°*`)(abcdefghijklmnopqrstuvwxyz]\", ' ', s)\n",
    "        tokens = word_tokenize(s)\n",
    "        tokens = [w for w in tokens if not w in stop_words]\n",
    "        for j in range(0,len(tokens)):\n",
    "            tokens[j] = morph.parse(tokens[j])[0].normal_form\n",
    "        s_cleared = ' '.join(tokens)\n",
    "        df.loc[i, 'text'] = s_cleared"
   ]
  },
  {
   "cell_type": "code",
   "execution_count": 16,
   "id": "e2af742c-69f3-4563-8b6d-dd6dafffc393",
   "metadata": {},
   "outputs": [
    {
     "name": "stderr",
     "output_type": "stream",
     "text": [
      "100%|████████████████████████████████████████████████████████████████████████████████| 236/236 [00:02<00:00, 92.24it/s]\n"
     ]
    }
   ],
   "source": [
    "clean_(df_okr)"
   ]
  },
  {
   "cell_type": "markdown",
   "id": "ce0b871f-d9c1-4c8f-89a2-3e9d5c797994",
   "metadata": {
    "jp-MarkdownHeadingCollapsed": true,
    "tags": []
   },
   "source": [
    "# MoritzLaurer/mDeBERTa-v3-base-mnli-xnli"
   ]
  },
  {
   "cell_type": "markdown",
   "id": "40cdfd07-3e5c-41be-977b-a8de6dfd1a2e",
   "metadata": {
    "jp-MarkdownHeadingCollapsed": true,
    "tags": []
   },
   "source": [
    "# из коробки"
   ]
  },
  {
   "cell_type": "code",
   "execution_count": 25,
   "id": "76f199f3-4cc4-4065-903b-d540becd27ac",
   "metadata": {},
   "outputs": [],
   "source": [
    "from sklearn.metrics import classification_report"
   ]
  },
  {
   "cell_type": "code",
   "execution_count": 16,
   "id": "d05f8b24-5f0b-4330-93d8-b842ea551fe4",
   "metadata": {},
   "outputs": [],
   "source": [
    "df = pd.concat([df_bar, df_depr, df_okr, df_rpp, df_shiz])"
   ]
  },
  {
   "cell_type": "code",
   "execution_count": 17,
   "id": "e142a35f-0ca3-40c6-97b4-89680801445e",
   "metadata": {},
   "outputs": [
    {
     "data": {
      "text/html": [
       "<div>\n",
       "<style scoped>\n",
       "    .dataframe tbody tr th:only-of-type {\n",
       "        vertical-align: middle;\n",
       "    }\n",
       "\n",
       "    .dataframe tbody tr th {\n",
       "        vertical-align: top;\n",
       "    }\n",
       "\n",
       "    .dataframe thead th {\n",
       "        text-align: right;\n",
       "    }\n",
       "</style>\n",
       "<table border=\"1\" class=\"dataframe\">\n",
       "  <thead>\n",
       "    <tr style=\"text-align: right;\">\n",
       "      <th></th>\n",
       "      <th>text</th>\n",
       "      <th>label</th>\n",
       "    </tr>\n",
       "  </thead>\n",
       "  <tbody>\n",
       "    <tr>\n",
       "      <th>0</th>\n",
       "      <td>биполярный расстройство личность тот иметь как...</td>\n",
       "      <td>биполярное аффективное расстройство</td>\n",
       "    </tr>\n",
       "    <tr>\n",
       "      <th>1</th>\n",
       "      <td>биполярный расстройство год пять периодически ...</td>\n",
       "      <td>биполярное аффективное расстройство</td>\n",
       "    </tr>\n",
       "    <tr>\n",
       "      <th>2</th>\n",
       "      <td>добрый вечер тот страдать биполярный расстройс...</td>\n",
       "      <td>биполярное аффективное расстройство</td>\n",
       "    </tr>\n",
       "    <tr>\n",
       "      <th>3</th>\n",
       "      <td>здравствуйте мой молодой человек биполярный ра...</td>\n",
       "      <td>биполярное аффективное расстройство</td>\n",
       "    </tr>\n",
       "    <tr>\n",
       "      <th>4</th>\n",
       "      <td>здравствуйте страдать биполярный расстройство ...</td>\n",
       "      <td>биполярное аффективное расстройство</td>\n",
       "    </tr>\n",
       "  </tbody>\n",
       "</table>\n",
       "</div>"
      ],
      "text/plain": [
       "                                                text  \\\n",
       "0  биполярный расстройство личность тот иметь как...   \n",
       "1  биполярный расстройство год пять периодически ...   \n",
       "2  добрый вечер тот страдать биполярный расстройс...   \n",
       "3  здравствуйте мой молодой человек биполярный ра...   \n",
       "4  здравствуйте страдать биполярный расстройство ...   \n",
       "\n",
       "                                 label  \n",
       "0  биполярное аффективное расстройство  \n",
       "1  биполярное аффективное расстройство  \n",
       "2  биполярное аффективное расстройство  \n",
       "3  биполярное аффективное расстройство  \n",
       "4  биполярное аффективное расстройство  "
      ]
     },
     "execution_count": 17,
     "metadata": {},
     "output_type": "execute_result"
    }
   ],
   "source": [
    "df.head(5)"
   ]
  },
  {
   "cell_type": "code",
   "execution_count": 18,
   "id": "da99674d-07e1-43ad-b8bc-ce656aeee702",
   "metadata": {},
   "outputs": [
    {
     "data": {
      "text/plain": [
       "депрессия                                621\n",
       "шизофрения                               612\n",
       "расстройство пищевого поведения          367\n",
       "обсессивно-компульсивное расстройство    236\n",
       "биполярное аффективное расстройство      228\n",
       "Name: label, dtype: int64"
      ]
     },
     "execution_count": 18,
     "metadata": {},
     "output_type": "execute_result"
    }
   ],
   "source": [
    "df['label'].value_counts()"
   ]
  },
  {
   "cell_type": "code",
   "execution_count": 19,
   "id": "c671677c-aeed-4997-b437-fe23696c9502",
   "metadata": {},
   "outputs": [],
   "source": [
    "values = np.unique(df['label'])\n",
    "my_labels =''\n",
    "for elem in values:\n",
    "    my_labels +=(elem +', ')\n",
    "my_labels = my_labels[:-2]"
   ]
  },
  {
   "cell_type": "code",
   "execution_count": 20,
   "id": "5cbf5749-0f79-4ce4-a0db-b4bf9194db9f",
   "metadata": {},
   "outputs": [
    {
     "data": {
      "text/plain": [
       "'биполярное аффективное расстройство, депрессия, обсессивно-компульсивное расстройство, расстройство пищевого поведения, шизофрения'"
      ]
     },
     "execution_count": 20,
     "metadata": {},
     "output_type": "execute_result"
    }
   ],
   "source": [
    "my_labels"
   ]
  },
  {
   "cell_type": "code",
   "execution_count": 21,
   "id": "7fae8998-4c44-41df-865b-e92ac21713d0",
   "metadata": {},
   "outputs": [],
   "source": [
    "from transformers import pipeline, AutoTokenizer"
   ]
  },
  {
   "cell_type": "code",
   "execution_count": 22,
   "id": "dede526c-2bd8-4073-8aea-b0d045b60a7e",
   "metadata": {},
   "outputs": [
    {
     "name": "stderr",
     "output_type": "stream",
     "text": [
      "D:\\Users\\Nurlan\\miniconda3\\lib\\site-packages\\transformers\\convert_slow_tokenizer.py:446: UserWarning: The sentencepiece tokenizer that you are converting to a fast tokenizer uses the byte fallback option which is not implemented in the fast tokenizers. In practice this means that the fast version of the tokenizer can produce unknown tokens whereas the sentencepiece version would have converted these unknown tokens into a sequence of byte tokens matching the original piece of text.\n",
      "  warnings.warn(\n"
     ]
    }
   ],
   "source": [
    "classifier = pipeline(\"zero-shot-classification\", model=\"MoritzLaurer/mDeBERTa-v3-base-mnli-xnli\")"
   ]
  },
  {
   "cell_type": "code",
   "execution_count": 23,
   "id": "3aa2ecc8-c54a-4fb5-b740-b5f025d8d1e3",
   "metadata": {
    "tags": []
   },
   "outputs": [],
   "source": [
    "# q = classifier(sequences=list(df['text']),\n",
    "#           hypothesis_template=\"{}.\",\n",
    "#           candidate_labels=my_labels)"
   ]
  },
  {
   "cell_type": "code",
   "execution_count": 24,
   "id": "43699961-09c2-492a-9978-b1a09c5b72de",
   "metadata": {},
   "outputs": [
    {
     "name": "stderr",
     "output_type": "stream",
     "text": [
      "100%|████████████████████████████████████████████████████████████████████████████| 2064/2064 [2:12:45<00:00,  3.86s/it]\n"
     ]
    }
   ],
   "source": [
    "preds = []\n",
    "for elem in tqdm(df['text']):\n",
    "    q = classifier(sequences=elem,\n",
    "          hypothesis_template=\"{}.\",\n",
    "          candidate_labels=my_labels)\n",
    "    preds.append(q['labels'][np.argmax(q['scores'])])"
   ]
  },
  {
   "cell_type": "code",
   "execution_count": 29,
   "id": "8b074c31-ea22-46b3-b3c2-76a5b57f9694",
   "metadata": {},
   "outputs": [],
   "source": [
    "#list(df['label'])"
   ]
  },
  {
   "cell_type": "code",
   "execution_count": 32,
   "id": "dd4c6158-2b38-4d00-b267-4699b4da1606",
   "metadata": {},
   "outputs": [
    {
     "name": "stdout",
     "output_type": "stream",
     "text": [
      "                                       precision    recall  f1-score   support\n",
      "\n",
      "  биполярное аффективное расстройство       0.35      0.64      0.45       228\n",
      "                            депрессия       0.88      0.71      0.79       621\n",
      "обсессивно-компульсивное расстройство       0.26      0.65      0.37       236\n",
      "      расстройство пищевого поведения       0.72      0.80      0.76       367\n",
      "                           шизофрения       0.99      0.23      0.37       612\n",
      "\n",
      "                             accuracy                           0.57      2064\n",
      "                            macro avg       0.64      0.61      0.55      2064\n",
      "                         weighted avg       0.76      0.57      0.57      2064\n",
      "\n"
     ]
    }
   ],
   "source": [
    "print(classification_report(list(df['label']), preds, zero_division=0))"
   ]
  },
  {
   "cell_type": "code",
   "execution_count": 34,
   "id": "00cd6cfb-de7f-4cb2-aaad-5e3b31ff7dcd",
   "metadata": {
    "tags": []
   },
   "outputs": [],
   "source": [
    "#q[0]"
   ]
  },
  {
   "cell_type": "code",
   "execution_count": 33,
   "id": "3d07bfa2-ea77-4a9f-92bb-092768a6b17f",
   "metadata": {},
   "outputs": [],
   "source": [
    "#q[0]['labels'][np.argmax(q[0]['scores'])]"
   ]
  },
  {
   "cell_type": "markdown",
   "id": "ef34d716-a3bc-4f49-b904-8dfed62a5b39",
   "metadata": {
    "jp-MarkdownHeadingCollapsed": true,
    "tags": []
   },
   "source": [
    "# fb model"
   ]
  },
  {
   "cell_type": "markdown",
   "id": "ed6a4517-2e87-4a2b-94aa-3ddd7e7e00c7",
   "metadata": {
    "jp-MarkdownHeadingCollapsed": true,
    "tags": []
   },
   "source": [
    "# из коробки"
   ]
  },
  {
   "cell_type": "code",
   "execution_count": 17,
   "id": "60e8bd2c-7f5d-4c8b-9afa-49a6ca923f62",
   "metadata": {},
   "outputs": [],
   "source": [
    "from sklearn.metrics import classification_report"
   ]
  },
  {
   "cell_type": "code",
   "execution_count": 18,
   "id": "23461f0f-bb97-4bd4-841b-1dc35c653b84",
   "metadata": {},
   "outputs": [],
   "source": [
    "from transformers import AutoTokenizer, pipeline\n",
    "from transformers import AutoModelForSeq2SeqLM\n",
    "from transformers import AutoModelForSequenceClassification"
   ]
  },
  {
   "cell_type": "code",
   "execution_count": 19,
   "id": "fb32ec46-2b07-45aa-abdb-074ff2e1849b",
   "metadata": {},
   "outputs": [],
   "source": [
    "import torch"
   ]
  },
  {
   "cell_type": "code",
   "execution_count": 20,
   "id": "62caeca9-43b0-4894-966d-8ea59544dbf8",
   "metadata": {},
   "outputs": [],
   "source": [
    "def zeroshot_classifier():\n",
    "    # Only works with English text\n",
    "    tokenizer = AutoTokenizer.from_pretrained(\"facebook/bart-large-mnli\")\n",
    "    model = AutoModelForSequenceClassification.from_pretrained(\"facebook/bart-large-mnli\")\n",
    "    return pipeline(task='zero-shot-classification',\n",
    "                    model=model, \n",
    "                    tokenizer=tokenizer)"
   ]
  },
  {
   "cell_type": "code",
   "execution_count": 21,
   "id": "7e09b603-18e4-48ac-977b-53e704b059a7",
   "metadata": {},
   "outputs": [],
   "source": [
    "# def translator(src: str, dest: str):\n",
    "#     src = src.lower()\n",
    "#     dest = dest.lower()\n",
    "#     tokenizer = AutoTokenizer.from_pretrained(f\"Helsinki-NLP/opus-mt-{src}-{dest}\")\n",
    "#     model = AutoModelForSeq2SeqLM.from_pretrained(f\"Helsinki-NLP/opus-mt-{src}-{dest}\")\n",
    "#     return pipeline(task='translation',\n",
    "#                     model=model,\n",
    "#                     tokenizer=tokenizer)"
   ]
  },
  {
   "cell_type": "code",
   "execution_count": 22,
   "id": "f452d626-dfae-4431-b0cc-4d8683d6754b",
   "metadata": {},
   "outputs": [],
   "source": [
    "# translate = translator('ru', 'en')"
   ]
  },
  {
   "cell_type": "code",
   "execution_count": 23,
   "id": "12651a1e-1ccd-4b5f-9ea8-c6955eeb7bf3",
   "metadata": {},
   "outputs": [],
   "source": [
    "df = pd.concat([df_bar, df_depr, df_okr, df_rpp, df_shiz])"
   ]
  },
  {
   "cell_type": "code",
   "execution_count": 24,
   "id": "fabacb6b-e8d8-4b6d-a3ec-e63b3c63a9df",
   "metadata": {},
   "outputs": [
    {
     "data": {
      "text/html": [
       "<div>\n",
       "<style scoped>\n",
       "    .dataframe tbody tr th:only-of-type {\n",
       "        vertical-align: middle;\n",
       "    }\n",
       "\n",
       "    .dataframe tbody tr th {\n",
       "        vertical-align: top;\n",
       "    }\n",
       "\n",
       "    .dataframe thead th {\n",
       "        text-align: right;\n",
       "    }\n",
       "</style>\n",
       "<table border=\"1\" class=\"dataframe\">\n",
       "  <thead>\n",
       "    <tr style=\"text-align: right;\">\n",
       "      <th></th>\n",
       "      <th>text</th>\n",
       "      <th>label</th>\n",
       "      <th>text_tr</th>\n",
       "      <th>label_tr</th>\n",
       "    </tr>\n",
       "  </thead>\n",
       "  <tbody>\n",
       "    <tr>\n",
       "      <th>0</th>\n",
       "      <td>биполярный расстройство личность тот иметь как...</td>\n",
       "      <td>биполярное аффективное расстройство</td>\n",
       "      <td>Bipolar personality disorder, those who have, ...</td>\n",
       "      <td>bipolar affective disorder</td>\n",
       "    </tr>\n",
       "    <tr>\n",
       "      <th>1</th>\n",
       "      <td>биполярный расстройство год пять периодически ...</td>\n",
       "      <td>биполярное аффективное расстройство</td>\n",
       "      <td>I've had bipolar disorder for five years. From...</td>\n",
       "      <td>bipolar affective disorder</td>\n",
       "    </tr>\n",
       "    <tr>\n",
       "      <th>2</th>\n",
       "      <td>добрый вечер тот страдать биполярный расстройс...</td>\n",
       "      <td>биполярное аффективное расстройство</td>\n",
       "      <td>good evening, is there anyone here who suffers...</td>\n",
       "      <td>bipolar affective disorder</td>\n",
       "    </tr>\n",
       "    <tr>\n",
       "      <th>3</th>\n",
       "      <td>здравствуйте мой молодой человек биполярный ра...</td>\n",
       "      <td>биполярное аффективное расстройство</td>\n",
       "      <td>Hello! My boyfriend has bipolar disorder. When...</td>\n",
       "      <td>bipolar affective disorder</td>\n",
       "    </tr>\n",
       "    <tr>\n",
       "      <th>4</th>\n",
       "      <td>здравствуйте страдать биполярный расстройство ...</td>\n",
       "      <td>биполярное аффективное расстройство</td>\n",
       "      <td>Hello. who suffers from bipolar disorder, how ...</td>\n",
       "      <td>bipolar affective disorder</td>\n",
       "    </tr>\n",
       "    <tr>\n",
       "      <th>...</th>\n",
       "      <td>...</td>\n",
       "      <td>...</td>\n",
       "      <td>...</td>\n",
       "      <td>...</td>\n",
       "    </tr>\n",
       "    <tr>\n",
       "      <th>607</th>\n",
       "      <td>появиться внезапно год казаться предмет двигат...</td>\n",
       "      <td>шизофрения</td>\n",
       "      <td>She appeared suddenly at the age of 13, it see...</td>\n",
       "      <td>schizophrenia</td>\n",
       "    </tr>\n",
       "    <tr>\n",
       "      <th>608</th>\n",
       "      <td>основное звуковой галлюцинация визуальный ‘ ам...</td>\n",
       "      <td>шизофрения</td>\n",
       "      <td>I have mostly auditory hallucinations, but I h...</td>\n",
       "      <td>schizophrenia</td>\n",
       "    </tr>\n",
       "    <tr>\n",
       "      <th>609</th>\n",
       "      <td>косо смотреть оборачиваться паранойя казаться ...</td>\n",
       "      <td>шизофрения</td>\n",
       "      <td>They look at me askance because I turn around ...</td>\n",
       "      <td>schizophrenia</td>\n",
       "    </tr>\n",
       "    <tr>\n",
       "      <th>610</th>\n",
       "      <td>галлюцинация мочь оборачиваться пугаться так д...</td>\n",
       "      <td>шизофрения</td>\n",
       "      <td>When hallucinating, I can turn around, get sca...</td>\n",
       "      <td>schizophrenia</td>\n",
       "    </tr>\n",
       "    <tr>\n",
       "      <th>611</th>\n",
       "      <td>такой родиться казаться смотреть я время дерев...</td>\n",
       "      <td>шизофрения</td>\n",
       "      <td>I was born this way, it seems to me that someo...</td>\n",
       "      <td>schizophrenia</td>\n",
       "    </tr>\n",
       "  </tbody>\n",
       "</table>\n",
       "<p>2064 rows × 4 columns</p>\n",
       "</div>"
      ],
      "text/plain": [
       "                                                  text  \\\n",
       "0    биполярный расстройство личность тот иметь как...   \n",
       "1    биполярный расстройство год пять периодически ...   \n",
       "2    добрый вечер тот страдать биполярный расстройс...   \n",
       "3    здравствуйте мой молодой человек биполярный ра...   \n",
       "4    здравствуйте страдать биполярный расстройство ...   \n",
       "..                                                 ...   \n",
       "607  появиться внезапно год казаться предмет двигат...   \n",
       "608  основное звуковой галлюцинация визуальный ‘ ам...   \n",
       "609  косо смотреть оборачиваться паранойя казаться ...   \n",
       "610  галлюцинация мочь оборачиваться пугаться так д...   \n",
       "611  такой родиться казаться смотреть я время дерев...   \n",
       "\n",
       "                                   label  \\\n",
       "0    биполярное аффективное расстройство   \n",
       "1    биполярное аффективное расстройство   \n",
       "2    биполярное аффективное расстройство   \n",
       "3    биполярное аффективное расстройство   \n",
       "4    биполярное аффективное расстройство   \n",
       "..                                   ...   \n",
       "607                           шизофрения   \n",
       "608                           шизофрения   \n",
       "609                           шизофрения   \n",
       "610                           шизофрения   \n",
       "611                           шизофрения   \n",
       "\n",
       "                                               text_tr  \\\n",
       "0    Bipolar personality disorder, those who have, ...   \n",
       "1    I've had bipolar disorder for five years. From...   \n",
       "2    good evening, is there anyone here who suffers...   \n",
       "3    Hello! My boyfriend has bipolar disorder. When...   \n",
       "4    Hello. who suffers from bipolar disorder, how ...   \n",
       "..                                                 ...   \n",
       "607  She appeared suddenly at the age of 13, it see...   \n",
       "608  I have mostly auditory hallucinations, but I h...   \n",
       "609  They look at me askance because I turn around ...   \n",
       "610  When hallucinating, I can turn around, get sca...   \n",
       "611  I was born this way, it seems to me that someo...   \n",
       "\n",
       "                       label_tr  \n",
       "0    bipolar affective disorder  \n",
       "1    bipolar affective disorder  \n",
       "2    bipolar affective disorder  \n",
       "3    bipolar affective disorder  \n",
       "4    bipolar affective disorder  \n",
       "..                          ...  \n",
       "607               schizophrenia  \n",
       "608               schizophrenia  \n",
       "609               schizophrenia  \n",
       "610               schizophrenia  \n",
       "611               schizophrenia  \n",
       "\n",
       "[2064 rows x 4 columns]"
      ]
     },
     "execution_count": 24,
     "metadata": {},
     "output_type": "execute_result"
    }
   ],
   "source": [
    "df"
   ]
  },
  {
   "cell_type": "code",
   "execution_count": 25,
   "id": "e1100ef3-86d1-46b4-b378-006f64d4c835",
   "metadata": {},
   "outputs": [
    {
     "data": {
      "text/plain": [
       "array(['bipolar affective disorder', 'depression', 'eating disorder',\n",
       "       'obsessive-compulsive disorder', 'schizophrenia'], dtype=object)"
      ]
     },
     "execution_count": 25,
     "metadata": {},
     "output_type": "execute_result"
    }
   ],
   "source": [
    "my_labels = np.unique(df['label_tr'].values)\n",
    "my_labels"
   ]
  },
  {
   "cell_type": "code",
   "execution_count": 26,
   "id": "28e74d69-8e21-4648-a309-b1fde360a99f",
   "metadata": {},
   "outputs": [],
   "source": [
    "pipe = zeroshot_classifier()"
   ]
  },
  {
   "cell_type": "code",
   "execution_count": 28,
   "id": "064a5b8e-58da-4ad9-a684-ba02517133f6",
   "metadata": {},
   "outputs": [],
   "source": [
    "# preds = []\n",
    "\n",
    "# with torch.no_grad():\n",
    "#     for elem in tqdm(list(df['text_tr'])):\n",
    "#         prediction = pipe(elem,\n",
    "#                           candidate_labels=my_labels)\n",
    "#         q = prediction['labels'][np.argmax(prediction['scores'])]\n",
    "#         preds.append(q)"
   ]
  },
  {
   "cell_type": "code",
   "execution_count": 33,
   "id": "570ffb26-566c-4bb2-9114-90cf823cf8a5",
   "metadata": {},
   "outputs": [
    {
     "name": "stderr",
     "output_type": "stream",
     "text": [
      "100%|████████████████████████████████████████████████████████████████████████████| 2064/2064 [7:42:55<00:00, 13.46s/it]\n"
     ]
    }
   ],
   "source": [
    "preds = []\n",
    "\n",
    "with torch.no_grad():\n",
    "    for elem in tqdm(list(df['text_tr'])):\n",
    "        prediction = pipe(elem,\n",
    "                          candidate_labels=my_labels)\n",
    "        q = prediction['labels'][np.argmax(prediction['scores'])]\n",
    "        preds.append(prediction)"
   ]
  },
  {
   "cell_type": "code",
   "execution_count": 36,
   "id": "b0d9fd0d-0a56-408e-9f96-bc831c5a72a8",
   "metadata": {},
   "outputs": [
    {
     "name": "stderr",
     "output_type": "stream",
     "text": [
      "100%|███████████████████████████████████████████████████████████████████████████| 2064/2064 [00:00<00:00, 27367.73it/s]\n"
     ]
    }
   ],
   "source": [
    "preds_ = []\n",
    "for elem in tqdm(preds):\n",
    "    preds_.append(elem['labels'][np.argmax(elem['scores'])])"
   ]
  },
  {
   "cell_type": "code",
   "execution_count": 38,
   "id": "f00def3f-edba-4dc1-b5ac-57326c2bde4c",
   "metadata": {},
   "outputs": [
    {
     "name": "stdout",
     "output_type": "stream",
     "text": [
      "                               precision    recall  f1-score   support\n",
      "\n",
      "   bipolar affective disorder       0.71      0.65      0.68       228\n",
      "                   depression       0.68      0.97      0.80       621\n",
      "              eating disorder       0.97      0.74      0.84       367\n",
      "obsessive-compulsive disorder       0.84      0.57      0.68       236\n",
      "                schizophrenia       0.95      0.82      0.88       612\n",
      "\n",
      "                     accuracy                           0.80      2064\n",
      "                    macro avg       0.83      0.75      0.77      2064\n",
      "                 weighted avg       0.83      0.80      0.80      2064\n",
      "\n"
     ]
    }
   ],
   "source": [
    "print(classification_report(list(df['label_tr']), preds_, zero_division=0))"
   ]
  },
  {
   "cell_type": "markdown",
   "id": "e66ccb32-82ed-4b2e-9633-aa40fb08f215",
   "metadata": {
    "tags": []
   },
   "source": [
    "# MoritzLaurer/multilingual-MiniLMv2-L6-mnli-xnli"
   ]
  },
  {
   "cell_type": "markdown",
   "id": "1f7da68a-5f50-4fb3-aa17-fa769cd0b323",
   "metadata": {
    "tags": []
   },
   "source": [
    "## из коробки"
   ]
  },
  {
   "cell_type": "code",
   "execution_count": 17,
   "id": "73555339-2bd0-48f7-80a3-770a935d67b8",
   "metadata": {},
   "outputs": [],
   "source": [
    "from sklearn.metrics import classification_report"
   ]
  },
  {
   "cell_type": "code",
   "execution_count": 18,
   "id": "074b6556-06e6-4afb-85de-36cbcd6e9053",
   "metadata": {},
   "outputs": [],
   "source": [
    "df = pd.concat([df_bar, df_depr, df_okr, df_rpp, df_shiz])"
   ]
  },
  {
   "cell_type": "code",
   "execution_count": 19,
   "id": "4095b8b1-3634-4a31-a5b8-b82b07b95632",
   "metadata": {},
   "outputs": [
    {
     "data": {
      "text/html": [
       "<div>\n",
       "<style scoped>\n",
       "    .dataframe tbody tr th:only-of-type {\n",
       "        vertical-align: middle;\n",
       "    }\n",
       "\n",
       "    .dataframe tbody tr th {\n",
       "        vertical-align: top;\n",
       "    }\n",
       "\n",
       "    .dataframe thead th {\n",
       "        text-align: right;\n",
       "    }\n",
       "</style>\n",
       "<table border=\"1\" class=\"dataframe\">\n",
       "  <thead>\n",
       "    <tr style=\"text-align: right;\">\n",
       "      <th></th>\n",
       "      <th>text</th>\n",
       "      <th>label</th>\n",
       "      <th>text_tr</th>\n",
       "      <th>label_tr</th>\n",
       "    </tr>\n",
       "  </thead>\n",
       "  <tbody>\n",
       "    <tr>\n",
       "      <th>0</th>\n",
       "      <td>биполярный расстройство личность тот иметь как...</td>\n",
       "      <td>биполярное аффективное расстройство</td>\n",
       "      <td>Bipolar personality disorder, those who have, ...</td>\n",
       "      <td>bipolar affective disorder</td>\n",
       "    </tr>\n",
       "    <tr>\n",
       "      <th>1</th>\n",
       "      <td>биполярный расстройство год пять периодически ...</td>\n",
       "      <td>биполярное аффективное расстройство</td>\n",
       "      <td>I've had bipolar disorder for five years. From...</td>\n",
       "      <td>bipolar affective disorder</td>\n",
       "    </tr>\n",
       "    <tr>\n",
       "      <th>2</th>\n",
       "      <td>добрый вечер тот страдать биполярный расстройс...</td>\n",
       "      <td>биполярное аффективное расстройство</td>\n",
       "      <td>good evening, is there anyone here who suffers...</td>\n",
       "      <td>bipolar affective disorder</td>\n",
       "    </tr>\n",
       "    <tr>\n",
       "      <th>3</th>\n",
       "      <td>здравствуйте мой молодой человек биполярный ра...</td>\n",
       "      <td>биполярное аффективное расстройство</td>\n",
       "      <td>Hello! My boyfriend has bipolar disorder. When...</td>\n",
       "      <td>bipolar affective disorder</td>\n",
       "    </tr>\n",
       "    <tr>\n",
       "      <th>4</th>\n",
       "      <td>здравствуйте страдать биполярный расстройство ...</td>\n",
       "      <td>биполярное аффективное расстройство</td>\n",
       "      <td>Hello. who suffers from bipolar disorder, how ...</td>\n",
       "      <td>bipolar affective disorder</td>\n",
       "    </tr>\n",
       "  </tbody>\n",
       "</table>\n",
       "</div>"
      ],
      "text/plain": [
       "                                                text  \\\n",
       "0  биполярный расстройство личность тот иметь как...   \n",
       "1  биполярный расстройство год пять периодически ...   \n",
       "2  добрый вечер тот страдать биполярный расстройс...   \n",
       "3  здравствуйте мой молодой человек биполярный ра...   \n",
       "4  здравствуйте страдать биполярный расстройство ...   \n",
       "\n",
       "                                 label  \\\n",
       "0  биполярное аффективное расстройство   \n",
       "1  биполярное аффективное расстройство   \n",
       "2  биполярное аффективное расстройство   \n",
       "3  биполярное аффективное расстройство   \n",
       "4  биполярное аффективное расстройство   \n",
       "\n",
       "                                             text_tr  \\\n",
       "0  Bipolar personality disorder, those who have, ...   \n",
       "1  I've had bipolar disorder for five years. From...   \n",
       "2  good evening, is there anyone here who suffers...   \n",
       "3  Hello! My boyfriend has bipolar disorder. When...   \n",
       "4  Hello. who suffers from bipolar disorder, how ...   \n",
       "\n",
       "                     label_tr  \n",
       "0  bipolar affective disorder  \n",
       "1  bipolar affective disorder  \n",
       "2  bipolar affective disorder  \n",
       "3  bipolar affective disorder  \n",
       "4  bipolar affective disorder  "
      ]
     },
     "execution_count": 19,
     "metadata": {},
     "output_type": "execute_result"
    }
   ],
   "source": [
    "df.head(5)"
   ]
  },
  {
   "cell_type": "code",
   "execution_count": 20,
   "id": "ccbd1552-e9e0-49ae-a476-3686944a87d1",
   "metadata": {},
   "outputs": [],
   "source": [
    "from sklearn.preprocessing import LabelEncoder"
   ]
  },
  {
   "cell_type": "code",
   "execution_count": 21,
   "id": "a1886992-c0c9-4f97-bfd3-108235623bac",
   "metadata": {},
   "outputs": [
    {
     "data": {
      "text/plain": [
       "array(['биполярное аффективное расстройство', 'депрессия',\n",
       "       'обсессивно-компульсивное расстройство',\n",
       "       'расстройство пищевого поведения', 'шизофрения'], dtype=object)"
      ]
     },
     "execution_count": 21,
     "metadata": {},
     "output_type": "execute_result"
    }
   ],
   "source": [
    "my_l = np.unique(df['label'].values)\n",
    "my_l"
   ]
  },
  {
   "cell_type": "code",
   "execution_count": 22,
   "id": "8700125f-e958-42e2-95a3-2bab00830a3d",
   "metadata": {},
   "outputs": [],
   "source": [
    "from sklearn.metrics import classification_report\n",
    "from transformers import pipeline, AutoModelForSequenceClassification, AutoTokenizer, TrainingArguments, Trainer, pipeline\n",
    "from torch.utils.data import Dataset, DataLoader\n",
    "import torch"
   ]
  },
  {
   "cell_type": "code",
   "execution_count": 23,
   "id": "7bfe3dd0-a544-4ebd-91f9-739d534c305b",
   "metadata": {
    "tags": []
   },
   "outputs": [],
   "source": [
    "classifier = pipeline(\"zero-shot-classification\", model=\"MoritzLaurer/multilingual-MiniLMv2-L6-mnli-xnli\")"
   ]
  },
  {
   "cell_type": "code",
   "execution_count": 24,
   "id": "11b37c32-8f68-4fff-9e21-5307260987db",
   "metadata": {},
   "outputs": [
    {
     "name": "stderr",
     "output_type": "stream",
     "text": [
      "100%|██████████████████████████████████████████████████████████████████████████████| 2064/2064 [12:51<00:00,  2.68it/s]\n"
     ]
    }
   ],
   "source": [
    "preds = []\n",
    "with torch.no_grad():\n",
    "    for elem in tqdm(list(df['text'])):\n",
    "        prediction = classifier(elem, my_l)\n",
    "        q = prediction['labels'][np.argmax(prediction['scores'])]\n",
    "        preds.append(q)"
   ]
  },
  {
   "cell_type": "code",
   "execution_count": 25,
   "id": "e4e32bbd-8be0-4290-b3cc-ae5d27ae3f89",
   "metadata": {},
   "outputs": [],
   "source": [
    "#o = classifier(list(df['text'])[0], my_l)"
   ]
  },
  {
   "cell_type": "code",
   "execution_count": 27,
   "id": "e48e0c48-b652-48c3-a530-0f05eed62927",
   "metadata": {},
   "outputs": [
    {
     "name": "stdout",
     "output_type": "stream",
     "text": [
      "                                       precision    recall  f1-score   support\n",
      "\n",
      "  биполярное аффективное расстройство       0.92      0.60      0.72       228\n",
      "                            депрессия       0.90      0.77      0.83       621\n",
      "обсессивно-компульсивное расстройство       0.35      0.51      0.42       236\n",
      "      расстройство пищевого поведения       0.55      0.75      0.64       367\n",
      "                           шизофрения       0.94      0.84      0.89       612\n",
      "\n",
      "                             accuracy                           0.74      2064\n",
      "                            macro avg       0.73      0.69      0.70      2064\n",
      "                         weighted avg       0.79      0.74      0.75      2064\n",
      "\n"
     ]
    }
   ],
   "source": [
    "print(classification_report(list(df['label']), preds, zero_division=0))"
   ]
  },
  {
   "cell_type": "markdown",
   "id": "108b14e3-025c-4ec2-a7a4-830aab7dce52",
   "metadata": {
    "tags": []
   },
   "source": [
    "## проверим с переводом"
   ]
  },
  {
   "cell_type": "code",
   "execution_count": 27,
   "id": "16e6e70a-f8ef-439c-9faf-aded8d80fa29",
   "metadata": {},
   "outputs": [
    {
     "data": {
      "text/plain": [
       "array(['bipolar affective disorder', 'depression', 'eating disorder',\n",
       "       'obsessive-compulsive disorder', 'schizophrenia'], dtype=object)"
      ]
     },
     "execution_count": 27,
     "metadata": {},
     "output_type": "execute_result"
    }
   ],
   "source": [
    "my_l = np.unique(df['label_tr'].values)\n",
    "my_l"
   ]
  },
  {
   "cell_type": "code",
   "execution_count": 28,
   "id": "ddc4af39-5457-4d74-abaf-f5e1198c5312",
   "metadata": {},
   "outputs": [
    {
     "name": "stderr",
     "output_type": "stream",
     "text": [
      "100%|██████████████████████████████████████████████████████████████████████████████| 2064/2064 [26:03<00:00,  1.32it/s]\n"
     ]
    }
   ],
   "source": [
    "preds = []\n",
    "with torch.no_grad():\n",
    "    for elem in tqdm(list(df['text_tr'])):\n",
    "        prediction = classifier(elem, my_l)\n",
    "        q = prediction['labels'][np.argmax(prediction['scores'])]\n",
    "        preds.append(q)"
   ]
  },
  {
   "cell_type": "code",
   "execution_count": 29,
   "id": "046927c7-04a4-4fb1-b8e2-085da919e3d8",
   "metadata": {},
   "outputs": [
    {
     "name": "stdout",
     "output_type": "stream",
     "text": [
      "                               precision    recall  f1-score   support\n",
      "\n",
      "   bipolar affective disorder       0.85      0.70      0.77       228\n",
      "                   depression       0.77      0.83      0.80       621\n",
      "              eating disorder       0.71      0.71      0.71       367\n",
      "obsessive-compulsive disorder       0.35      0.47      0.40       236\n",
      "                schizophrenia       0.93      0.79      0.86       612\n",
      "\n",
      "                     accuracy                           0.74      2064\n",
      "                    macro avg       0.72      0.70      0.71      2064\n",
      "                 weighted avg       0.77      0.74      0.75      2064\n",
      "\n"
     ]
    }
   ],
   "source": [
    "print(classification_report(list(df['label_tr']), preds, zero_division=0))"
   ]
  },
  {
   "cell_type": "markdown",
   "id": "15879105-ca5c-439a-bc9e-33066f5d83ee",
   "metadata": {
    "jp-MarkdownHeadingCollapsed": true,
    "tags": []
   },
   "source": [
    "## fine-tune"
   ]
  },
  {
   "cell_type": "code",
   "execution_count": 16,
   "id": "d5d52d4a-9ade-4c8e-8916-2dd82ade7bf5",
   "metadata": {},
   "outputs": [],
   "source": [
    "train_size_bar = int(df_bar.shape[0] * 0.8)\n",
    "train_size_depr = int(df_depr.shape[0] * 0.8)\n",
    "train_size_okr = int(df_okr.shape[0] * 0.8)\n",
    "train_size_rpp = int(df_rpp.shape[0] * 0.8)\n",
    "train_size_shiz = int(df_shiz.shape[0] * 0.8)"
   ]
  },
  {
   "cell_type": "code",
   "execution_count": 17,
   "id": "3c82df8a-6e0f-4323-be42-17cdee3a60e0",
   "metadata": {},
   "outputs": [],
   "source": [
    "val_size_bar = int(df_bar.shape[0] * 0.7)\n",
    "val_size_depr = int(df_depr.shape[0] * 0.7)\n",
    "val_size_okr = int(df_okr.shape[0] * 0.7)\n",
    "val_size_rpp = int(df_rpp.shape[0] * 0.7)\n",
    "val_size_shiz = int(df_shiz.shape[0] * 0.7)"
   ]
  },
  {
   "cell_type": "code",
   "execution_count": 18,
   "id": "c0d7021b-55b3-4c3a-aa93-66f0f8b81ffc",
   "metadata": {},
   "outputs": [],
   "source": [
    "df_bar = df_bar.sample(frac=1).reset_index(drop=True)\n",
    "df_depr = df_depr.sample(frac=1).reset_index(drop=True)\n",
    "df_okr = df_okr.sample(frac=1).reset_index(drop=True)\n",
    "df_rpp = df_rpp.sample(frac=1).reset_index(drop=True)\n",
    "df_shiz = df_shiz.sample(frac=1).reset_index(drop=True)"
   ]
  },
  {
   "cell_type": "code",
   "execution_count": 19,
   "id": "c778202a-b557-41a7-994c-1e445950b6b3",
   "metadata": {},
   "outputs": [],
   "source": [
    "df_bar_test = df_bar.iloc[train_size_bar:]\n",
    "df_depr_test = df_depr.iloc[train_size_depr:]\n",
    "df_okr_test = df_okr.iloc[train_size_okr:]\n",
    "df_rpp_test = df_rpp.iloc[train_size_rpp:]\n",
    "df_shiz_test = df_shiz.iloc[train_size_shiz:]"
   ]
  },
  {
   "cell_type": "code",
   "execution_count": 20,
   "id": "a633ce27-4596-40d0-8d25-863eedc1127d",
   "metadata": {},
   "outputs": [],
   "source": [
    "df_bar_val = df_bar.iloc[val_size_bar:train_size_bar]\n",
    "df_depr_val = df_depr.iloc[val_size_depr:train_size_depr]\n",
    "df_okr_val = df_okr.iloc[val_size_okr:train_size_okr]\n",
    "df_rpp_val = df_rpp.iloc[val_size_rpp:train_size_rpp]\n",
    "df_shiz_val = df_shiz.iloc[val_size_shiz:train_size_shiz]"
   ]
  },
  {
   "cell_type": "code",
   "execution_count": 21,
   "id": "b2bfff2e-e01d-465d-9760-fd9f6d4ae734",
   "metadata": {},
   "outputs": [],
   "source": [
    "df_bar_train = df_bar.iloc[:val_size_bar]\n",
    "df_depr_train = df_depr.iloc[:val_size_depr]\n",
    "df_okr_train = df_okr.iloc[:val_size_okr]\n",
    "df_rpp_train = df_rpp.iloc[:val_size_rpp]\n",
    "df_shiz_train = df_shiz.iloc[:val_size_shiz]"
   ]
  },
  {
   "cell_type": "code",
   "execution_count": 22,
   "id": "f606403e-f6ac-4a75-b6f8-229724c9b863",
   "metadata": {},
   "outputs": [],
   "source": [
    "df_train = pd.concat([df_bar_train, df_depr_train, df_okr_train, df_rpp_train, df_shiz_train]).sample(frac=1).reset_index(drop=True)"
   ]
  },
  {
   "cell_type": "code",
   "execution_count": 23,
   "id": "95a0b631-5f82-40b6-b4d9-16c69a20b09d",
   "metadata": {},
   "outputs": [
    {
     "data": {
      "text/html": [
       "<div>\n",
       "<style scoped>\n",
       "    .dataframe tbody tr th:only-of-type {\n",
       "        vertical-align: middle;\n",
       "    }\n",
       "\n",
       "    .dataframe tbody tr th {\n",
       "        vertical-align: top;\n",
       "    }\n",
       "\n",
       "    .dataframe thead th {\n",
       "        text-align: right;\n",
       "    }\n",
       "</style>\n",
       "<table border=\"1\" class=\"dataframe\">\n",
       "  <thead>\n",
       "    <tr style=\"text-align: right;\">\n",
       "      <th></th>\n",
       "      <th>text</th>\n",
       "      <th>label</th>\n",
       "      <th>text_tr</th>\n",
       "      <th>label_tr</th>\n",
       "    </tr>\n",
       "  </thead>\n",
       "  <tbody>\n",
       "    <tr>\n",
       "      <th>0</th>\n",
       "      <td>понять человек сутки бесконечно разговаривать ...</td>\n",
       "      <td>шизофрения</td>\n",
       "      <td>How to understand if a person endlessly talks ...</td>\n",
       "      <td>schizophrenia</td>\n",
       "    </tr>\n",
       "    <tr>\n",
       "      <th>1</th>\n",
       "      <td>женатый год вместе десять прекрасно знать личн...</td>\n",
       "      <td>шизофрения</td>\n",
       "      <td>They were married for 6 years, together for mo...</td>\n",
       "      <td>schizophrenia</td>\n",
       "    </tr>\n",
       "    <tr>\n",
       "      <th>2</th>\n",
       "      <td>год бороться лишний вес точнее ожирение степен...</td>\n",
       "      <td>расстройство пищевого поведения</td>\n",
       "      <td>For 15 years I struggled with being overweight...</td>\n",
       "      <td>eating disorder</td>\n",
       "    </tr>\n",
       "  </tbody>\n",
       "</table>\n",
       "</div>"
      ],
      "text/plain": [
       "                                                text  \\\n",
       "0  понять человек сутки бесконечно разговаривать ...   \n",
       "1  женатый год вместе десять прекрасно знать личн...   \n",
       "2  год бороться лишний вес точнее ожирение степен...   \n",
       "\n",
       "                             label  \\\n",
       "0                       шизофрения   \n",
       "1                       шизофрения   \n",
       "2  расстройство пищевого поведения   \n",
       "\n",
       "                                             text_tr         label_tr  \n",
       "0  How to understand if a person endlessly talks ...    schizophrenia  \n",
       "1  They were married for 6 years, together for mo...    schizophrenia  \n",
       "2  For 15 years I struggled with being overweight...  eating disorder  "
      ]
     },
     "execution_count": 23,
     "metadata": {},
     "output_type": "execute_result"
    }
   ],
   "source": [
    "df_train.head(3)"
   ]
  },
  {
   "cell_type": "code",
   "execution_count": 24,
   "id": "6f4a7200-12ad-4a69-b5fd-1dcb8387be81",
   "metadata": {},
   "outputs": [],
   "source": [
    "df_test = pd.concat([df_bar_test, df_depr_test, df_okr_test, df_rpp_test, df_shiz_test]).sample(frac=1).reset_index(drop=True)\n",
    "df_val= pd.concat([df_bar_val, df_depr_val, df_okr_val, df_rpp_val, df_shiz_val]).sample(frac=1).reset_index(drop=True)"
   ]
  },
  {
   "cell_type": "code",
   "execution_count": 27,
   "id": "4346fa86-2461-4a47-b88c-66922233fb91",
   "metadata": {},
   "outputs": [
    {
     "data": {
      "text/plain": [
       "((1442, 4), (416, 4), (206, 4))"
      ]
     },
     "execution_count": 27,
     "metadata": {},
     "output_type": "execute_result"
    }
   ],
   "source": [
    "df_train.shape, df_test.shape#, df_val.shape"
   ]
  },
  {
   "cell_type": "code",
   "execution_count": 28,
   "id": "36b26066-5a54-4882-a875-4cd0a1f06a89",
   "metadata": {},
   "outputs": [],
   "source": [
    "from sklearn.preprocessing import LabelEncoder"
   ]
  },
  {
   "cell_type": "code",
   "execution_count": 29,
   "id": "a0e515f7-967d-421b-a8d2-bb5647b7e716",
   "metadata": {},
   "outputs": [
    {
     "data": {
      "text/plain": [
       "array(['биполярное аффективное расстройство', 'депрессия',\n",
       "       'обсессивно-компульсивное расстройство',\n",
       "       'расстройство пищевого поведения', 'шизофрения'], dtype=object)"
      ]
     },
     "execution_count": 29,
     "metadata": {},
     "output_type": "execute_result"
    }
   ],
   "source": [
    "my_l = np.unique(df_train['label'].values)\n",
    "my_l"
   ]
  },
  {
   "cell_type": "code",
   "execution_count": 28,
   "id": "a1d4c774-30d8-4f1a-9330-e90b975047ce",
   "metadata": {},
   "outputs": [],
   "source": [
    "encoder = LabelEncoder()"
   ]
  },
  {
   "cell_type": "code",
   "execution_count": 29,
   "id": "567940cb-a838-480e-a406-1b7911270e81",
   "metadata": {},
   "outputs": [],
   "source": [
    "encoded_labels = encoder.fit(my_l)"
   ]
  },
  {
   "cell_type": "code",
   "execution_count": 30,
   "id": "d7f433e9-2e9e-4d88-9de7-e045dc735bf9",
   "metadata": {},
   "outputs": [],
   "source": [
    "from sklearn.metrics import classification_report\n",
    "from transformers import pipeline, AutoModelForSequenceClassification, AutoTokenizer, TrainingArguments, Trainer\n",
    "from torch.utils.data import Dataset, DataLoader\n",
    "import torch"
   ]
  },
  {
   "cell_type": "code",
   "execution_count": 26,
   "id": "b44399c4-3a41-47d8-bb6a-58b2e4d5e57f",
   "metadata": {
    "collapsed": true,
    "jupyter": {
     "outputs_hidden": true
    },
    "tags": []
   },
   "outputs": [
    {
     "ename": "NameError",
     "evalue": "name 'AutoModelForSequenceClassification' is not defined",
     "output_type": "error",
     "traceback": [
      "\u001b[1;31m---------------------------------------------------------------------------\u001b[0m",
      "\u001b[1;31mNameError\u001b[0m                                 Traceback (most recent call last)",
      "Cell \u001b[1;32mIn[26], line 2\u001b[0m\n\u001b[0;32m      1\u001b[0m model_name \u001b[38;5;241m=\u001b[39m \u001b[38;5;124m\"\u001b[39m\u001b[38;5;124mMoritzLaurer/multilingual-MiniLMv2-L6-mnli-xnli\u001b[39m\u001b[38;5;124m\"\u001b[39m\n\u001b[1;32m----> 2\u001b[0m model \u001b[38;5;241m=\u001b[39m \u001b[43mAutoModelForSequenceClassification\u001b[49m\u001b[38;5;241m.\u001b[39mfrom_pretrained(model_name, num_labels\u001b[38;5;241m=\u001b[39m\u001b[38;5;241m5\u001b[39m,ignore_mismatched_sizes\u001b[38;5;241m=\u001b[39m\u001b[38;5;28;01mTrue\u001b[39;00m)\n\u001b[0;32m      3\u001b[0m tokenizer \u001b[38;5;241m=\u001b[39m AutoTokenizer\u001b[38;5;241m.\u001b[39mfrom_pretrained(model_name)\n",
      "\u001b[1;31mNameError\u001b[0m: name 'AutoModelForSequenceClassification' is not defined"
     ]
    }
   ],
   "source": [
    "model_name = \"MoritzLaurer/multilingual-MiniLMv2-L6-mnli-xnli\"\n",
    "model = AutoModelForSequenceClassification.from_pretrained(model_name, num_labels=5,ignore_mismatched_sizes=True)\n",
    "tokenizer = AutoTokenizer.from_pretrained(model_name)"
   ]
  },
  {
   "cell_type": "code",
   "execution_count": 25,
   "id": "8ca69e08-5e87-44e2-9c0b-eedb7a72ffe3",
   "metadata": {
    "collapsed": true,
    "jupyter": {
     "outputs_hidden": true
    },
    "tags": []
   },
   "outputs": [
    {
     "ename": "NameError",
     "evalue": "name 'tokenizer' is not defined",
     "output_type": "error",
     "traceback": [
      "\u001b[1;31m---------------------------------------------------------------------------\u001b[0m",
      "\u001b[1;31mNameError\u001b[0m                                 Traceback (most recent call last)",
      "Cell \u001b[1;32mIn[25], line 1\u001b[0m\n\u001b[1;32m----> 1\u001b[0m train_encodings \u001b[38;5;241m=\u001b[39m \u001b[43mtokenizer\u001b[49m(\u001b[38;5;28mlist\u001b[39m(df_train[\u001b[38;5;124m'\u001b[39m\u001b[38;5;124mtext\u001b[39m\u001b[38;5;124m'\u001b[39m]), truncation\u001b[38;5;241m=\u001b[39m\u001b[38;5;28;01mTrue\u001b[39;00m, padding\u001b[38;5;241m=\u001b[39m\u001b[38;5;28;01mTrue\u001b[39;00m)\n\u001b[0;32m      2\u001b[0m test_encodings \u001b[38;5;241m=\u001b[39m tokenizer(\u001b[38;5;28mlist\u001b[39m(df_test[\u001b[38;5;124m'\u001b[39m\u001b[38;5;124mtext\u001b[39m\u001b[38;5;124m'\u001b[39m]), truncation\u001b[38;5;241m=\u001b[39m\u001b[38;5;28;01mTrue\u001b[39;00m, padding\u001b[38;5;241m=\u001b[39m\u001b[38;5;28;01mTrue\u001b[39;00m)\n\u001b[0;32m      3\u001b[0m val_encodings \u001b[38;5;241m=\u001b[39m tokenizer(\u001b[38;5;28mlist\u001b[39m(df_val[\u001b[38;5;124m'\u001b[39m\u001b[38;5;124mtext\u001b[39m\u001b[38;5;124m'\u001b[39m]), truncation\u001b[38;5;241m=\u001b[39m\u001b[38;5;28;01mTrue\u001b[39;00m, padding\u001b[38;5;241m=\u001b[39m\u001b[38;5;28;01mTrue\u001b[39;00m)\n",
      "\u001b[1;31mNameError\u001b[0m: name 'tokenizer' is not defined"
     ]
    }
   ],
   "source": [
    "train_encodings = tokenizer(list(df_train['text']), truncation=True, padding=True)\n",
    "test_encodings = tokenizer(list(df_test['text']), truncation=True, padding=True)\n",
    "val_encodings = tokenizer(list(df_val['text']), truncation=True, padding=True)"
   ]
  },
  {
   "cell_type": "code",
   "execution_count": 33,
   "id": "eedd05fe-ce32-4e08-b181-49b4bc537709",
   "metadata": {},
   "outputs": [],
   "source": [
    "class CustomDataset(Dataset):\n",
    "    def __init__(self, encodings, labels):\n",
    "        self.encodings = encodings\n",
    "        self.labels = labels\n",
    "\n",
    "    def __getitem__(self, idx):\n",
    "        item = {key: torch.tensor(val[idx]) for key, val in self.encodings.items()}\n",
    "        item['labels'] = torch.tensor(self.labels[idx], dtype=torch.long)\n",
    "        return item\n",
    "\n",
    "    def __len__(self):\n",
    "        return len(self.labels)"
   ]
  },
  {
   "cell_type": "code",
   "execution_count": 34,
   "id": "dc9f2492-3237-4e70-bc67-636d8fe116d6",
   "metadata": {},
   "outputs": [],
   "source": [
    "train_dataset = CustomDataset(train_encodings, encoder.transform(df_train['label']))\n",
    "test_dataset = CustomDataset(test_encodings, encoder.transform(df_test['label']))\n",
    "#val_dataset = CustomDataset(val_encodings, encoder.transform(df_val['label']))"
   ]
  },
  {
   "cell_type": "code",
   "execution_count": 35,
   "id": "c06f8270-4cdf-4b01-bc53-6be9609afa4f",
   "metadata": {},
   "outputs": [],
   "source": [
    "training_args = TrainingArguments(\n",
    "    output_dir='./results',          # output directory\n",
    "    num_train_epochs=2,              # total number of training epochs\n",
    "    per_device_train_batch_size=1,  # batch size per device during training\n",
    "    #per_device_eval_batch_size=4,   # batch size for evaluation\n",
    "    #warmup_steps=500,                # number of warmup steps for learning rate scheduler\n",
    "    weight_decay=0.06,               # strength of weight decay\n",
    "    logging_dir='./logs',            # directory for storing logs\n",
    "    warmup_ratio=0.1,\n",
    "    gradient_accumulation_steps = 2,\n",
    ")"
   ]
  },
  {
   "cell_type": "code",
   "execution_count": 36,
   "id": "37902ed9-1216-454f-9f1c-8133982172cc",
   "metadata": {},
   "outputs": [],
   "source": [
    "trainer = Trainer(\n",
    "    model=model,                         # the instantiated Transformers model to be trained\n",
    "    args=training_args,                  # training arguments, defined above\n",
    "    train_dataset=train_dataset,         # training dataset\n",
    "    #eval_dataset=val_dataset             # evaluation dataset\n",
    ")"
   ]
  },
  {
   "cell_type": "code",
   "execution_count": 37,
   "id": "5337723f-5bd2-4a1c-87ff-73bb76eda916",
   "metadata": {
    "collapsed": true,
    "jupyter": {
     "outputs_hidden": true
    },
    "tags": []
   },
   "outputs": [
    {
     "name": "stderr",
     "output_type": "stream",
     "text": [
      "D:\\Users\\Nurlan\\miniconda3\\lib\\site-packages\\transformers\\optimization.py:306: FutureWarning: This implementation of AdamW is deprecated and will be removed in a future version. Use the PyTorch implementation torch.optim.AdamW instead, or set `no_deprecation_warning=True` to disable this warning\n",
      "  warnings.warn(\n",
      "***** Running training *****\n",
      "  Num examples = 1442\n",
      "  Num Epochs = 2\n",
      "  Instantaneous batch size per device = 1\n",
      "  Total train batch size (w. parallel, distributed & accumulation) = 2\n",
      "  Gradient Accumulation steps = 2\n",
      "  Total optimization steps = 1442\n",
      "  Number of trainable parameters = 106995845\n"
     ]
    },
    {
     "ename": "OutOfMemoryError",
     "evalue": "CUDA out of memory. Tried to allocate 368.00 MiB (GPU 0; 2.00 GiB total capacity; 1.52 GiB already allocated; 0 bytes free; 1.55 GiB reserved in total by PyTorch) If reserved memory is >> allocated memory try setting max_split_size_mb to avoid fragmentation.  See documentation for Memory Management and PYTORCH_CUDA_ALLOC_CONF",
     "output_type": "error",
     "traceback": [
      "\u001b[1;31m---------------------------------------------------------------------------\u001b[0m",
      "\u001b[1;31mOutOfMemoryError\u001b[0m                          Traceback (most recent call last)",
      "Cell \u001b[1;32mIn[37], line 1\u001b[0m\n\u001b[1;32m----> 1\u001b[0m \u001b[43mtrainer\u001b[49m\u001b[38;5;241;43m.\u001b[39;49m\u001b[43mtrain\u001b[49m\u001b[43m(\u001b[49m\u001b[43m)\u001b[49m\n",
      "File \u001b[1;32mD:\\Users\\Nurlan\\miniconda3\\lib\\site-packages\\transformers\\trainer.py:1501\u001b[0m, in \u001b[0;36mTrainer.train\u001b[1;34m(self, resume_from_checkpoint, trial, ignore_keys_for_eval, **kwargs)\u001b[0m\n\u001b[0;32m   1496\u001b[0m     \u001b[38;5;28mself\u001b[39m\u001b[38;5;241m.\u001b[39mmodel_wrapped \u001b[38;5;241m=\u001b[39m \u001b[38;5;28mself\u001b[39m\u001b[38;5;241m.\u001b[39mmodel\n\u001b[0;32m   1498\u001b[0m inner_training_loop \u001b[38;5;241m=\u001b[39m find_executable_batch_size(\n\u001b[0;32m   1499\u001b[0m     \u001b[38;5;28mself\u001b[39m\u001b[38;5;241m.\u001b[39m_inner_training_loop, \u001b[38;5;28mself\u001b[39m\u001b[38;5;241m.\u001b[39m_train_batch_size, args\u001b[38;5;241m.\u001b[39mauto_find_batch_size\n\u001b[0;32m   1500\u001b[0m )\n\u001b[1;32m-> 1501\u001b[0m \u001b[38;5;28;01mreturn\u001b[39;00m \u001b[43minner_training_loop\u001b[49m\u001b[43m(\u001b[49m\n\u001b[0;32m   1502\u001b[0m \u001b[43m    \u001b[49m\u001b[43margs\u001b[49m\u001b[38;5;241;43m=\u001b[39;49m\u001b[43margs\u001b[49m\u001b[43m,\u001b[49m\n\u001b[0;32m   1503\u001b[0m \u001b[43m    \u001b[49m\u001b[43mresume_from_checkpoint\u001b[49m\u001b[38;5;241;43m=\u001b[39;49m\u001b[43mresume_from_checkpoint\u001b[49m\u001b[43m,\u001b[49m\n\u001b[0;32m   1504\u001b[0m \u001b[43m    \u001b[49m\u001b[43mtrial\u001b[49m\u001b[38;5;241;43m=\u001b[39;49m\u001b[43mtrial\u001b[49m\u001b[43m,\u001b[49m\n\u001b[0;32m   1505\u001b[0m \u001b[43m    \u001b[49m\u001b[43mignore_keys_for_eval\u001b[49m\u001b[38;5;241;43m=\u001b[39;49m\u001b[43mignore_keys_for_eval\u001b[49m\u001b[43m,\u001b[49m\n\u001b[0;32m   1506\u001b[0m \u001b[43m\u001b[49m\u001b[43m)\u001b[49m\n",
      "File \u001b[1;32mD:\\Users\\Nurlan\\miniconda3\\lib\\site-packages\\transformers\\trainer.py:1816\u001b[0m, in \u001b[0;36mTrainer._inner_training_loop\u001b[1;34m(self, batch_size, args, resume_from_checkpoint, trial, ignore_keys_for_eval)\u001b[0m\n\u001b[0;32m   1814\u001b[0m     optimizer_was_run \u001b[38;5;241m=\u001b[39m scale_before \u001b[38;5;241m<\u001b[39m\u001b[38;5;241m=\u001b[39m scale_after\n\u001b[0;32m   1815\u001b[0m \u001b[38;5;28;01melse\u001b[39;00m:\n\u001b[1;32m-> 1816\u001b[0m     \u001b[38;5;28;43mself\u001b[39;49m\u001b[38;5;241;43m.\u001b[39;49m\u001b[43moptimizer\u001b[49m\u001b[38;5;241;43m.\u001b[39;49m\u001b[43mstep\u001b[49m\u001b[43m(\u001b[49m\u001b[43m)\u001b[49m\n\u001b[0;32m   1818\u001b[0m \u001b[38;5;28;01mif\u001b[39;00m optimizer_was_run \u001b[38;5;129;01mand\u001b[39;00m \u001b[38;5;129;01mnot\u001b[39;00m \u001b[38;5;28mself\u001b[39m\u001b[38;5;241m.\u001b[39mdeepspeed:\n\u001b[0;32m   1819\u001b[0m     \u001b[38;5;28mself\u001b[39m\u001b[38;5;241m.\u001b[39mlr_scheduler\u001b[38;5;241m.\u001b[39mstep()\n",
      "File \u001b[1;32mD:\\Users\\Nurlan\\miniconda3\\lib\\site-packages\\torch\\optim\\lr_scheduler.py:68\u001b[0m, in \u001b[0;36m_LRScheduler.__init__.<locals>.with_counter.<locals>.wrapper\u001b[1;34m(*args, **kwargs)\u001b[0m\n\u001b[0;32m     66\u001b[0m instance\u001b[38;5;241m.\u001b[39m_step_count \u001b[38;5;241m+\u001b[39m\u001b[38;5;241m=\u001b[39m \u001b[38;5;241m1\u001b[39m\n\u001b[0;32m     67\u001b[0m wrapped \u001b[38;5;241m=\u001b[39m func\u001b[38;5;241m.\u001b[39m\u001b[38;5;21m__get__\u001b[39m(instance, \u001b[38;5;28mcls\u001b[39m)\n\u001b[1;32m---> 68\u001b[0m \u001b[38;5;28;01mreturn\u001b[39;00m wrapped(\u001b[38;5;241m*\u001b[39margs, \u001b[38;5;241m*\u001b[39m\u001b[38;5;241m*\u001b[39mkwargs)\n",
      "File \u001b[1;32mD:\\Users\\Nurlan\\miniconda3\\lib\\site-packages\\torch\\optim\\optimizer.py:140\u001b[0m, in \u001b[0;36mOptimizer._hook_for_profile.<locals>.profile_hook_step.<locals>.wrapper\u001b[1;34m(*args, **kwargs)\u001b[0m\n\u001b[0;32m    138\u001b[0m profile_name \u001b[38;5;241m=\u001b[39m \u001b[38;5;124m\"\u001b[39m\u001b[38;5;124mOptimizer.step#\u001b[39m\u001b[38;5;132;01m{}\u001b[39;00m\u001b[38;5;124m.step\u001b[39m\u001b[38;5;124m\"\u001b[39m\u001b[38;5;241m.\u001b[39mformat(obj\u001b[38;5;241m.\u001b[39m\u001b[38;5;18m__class__\u001b[39m\u001b[38;5;241m.\u001b[39m\u001b[38;5;18m__name__\u001b[39m)\n\u001b[0;32m    139\u001b[0m \u001b[38;5;28;01mwith\u001b[39;00m torch\u001b[38;5;241m.\u001b[39mautograd\u001b[38;5;241m.\u001b[39mprofiler\u001b[38;5;241m.\u001b[39mrecord_function(profile_name):\n\u001b[1;32m--> 140\u001b[0m     out \u001b[38;5;241m=\u001b[39m func(\u001b[38;5;241m*\u001b[39margs, \u001b[38;5;241m*\u001b[39m\u001b[38;5;241m*\u001b[39mkwargs)\n\u001b[0;32m    141\u001b[0m     obj\u001b[38;5;241m.\u001b[39m_optimizer_step_code()\n\u001b[0;32m    142\u001b[0m     \u001b[38;5;28;01mreturn\u001b[39;00m out\n",
      "File \u001b[1;32mD:\\Users\\Nurlan\\miniconda3\\lib\\site-packages\\transformers\\optimization.py:362\u001b[0m, in \u001b[0;36mAdamW.step\u001b[1;34m(self, closure)\u001b[0m\n\u001b[0;32m    360\u001b[0m exp_avg\u001b[38;5;241m.\u001b[39mmul_(beta1)\u001b[38;5;241m.\u001b[39madd_(grad, alpha\u001b[38;5;241m=\u001b[39m(\u001b[38;5;241m1.0\u001b[39m \u001b[38;5;241m-\u001b[39m beta1))\n\u001b[0;32m    361\u001b[0m exp_avg_sq\u001b[38;5;241m.\u001b[39mmul_(beta2)\u001b[38;5;241m.\u001b[39maddcmul_(grad, grad, value\u001b[38;5;241m=\u001b[39m\u001b[38;5;241m1.0\u001b[39m \u001b[38;5;241m-\u001b[39m beta2)\n\u001b[1;32m--> 362\u001b[0m denom \u001b[38;5;241m=\u001b[39m \u001b[43mexp_avg_sq\u001b[49m\u001b[38;5;241;43m.\u001b[39;49m\u001b[43msqrt\u001b[49m\u001b[43m(\u001b[49m\u001b[43m)\u001b[49m\u001b[38;5;241m.\u001b[39madd_(group[\u001b[38;5;124m\"\u001b[39m\u001b[38;5;124meps\u001b[39m\u001b[38;5;124m\"\u001b[39m])\n\u001b[0;32m    364\u001b[0m step_size \u001b[38;5;241m=\u001b[39m group[\u001b[38;5;124m\"\u001b[39m\u001b[38;5;124mlr\u001b[39m\u001b[38;5;124m\"\u001b[39m]\n\u001b[0;32m    365\u001b[0m \u001b[38;5;28;01mif\u001b[39;00m group[\u001b[38;5;124m\"\u001b[39m\u001b[38;5;124mcorrect_bias\u001b[39m\u001b[38;5;124m\"\u001b[39m]:  \u001b[38;5;66;03m# No bias correction for Bert\u001b[39;00m\n",
      "\u001b[1;31mOutOfMemoryError\u001b[0m: CUDA out of memory. Tried to allocate 368.00 MiB (GPU 0; 2.00 GiB total capacity; 1.52 GiB already allocated; 0 bytes free; 1.55 GiB reserved in total by PyTorch) If reserved memory is >> allocated memory try setting max_split_size_mb to avoid fragmentation.  See documentation for Memory Management and PYTORCH_CUDA_ALLOC_CONF"
     ]
    }
   ],
   "source": [
    "trainer.train()"
   ]
  },
  {
   "cell_type": "code",
   "execution_count": null,
   "id": "c9fae739-9f5f-44a0-a119-8445b2d7245f",
   "metadata": {},
   "outputs": [],
   "source": [
    "torch.cuda.empty_cache()"
   ]
  },
  {
   "cell_type": "markdown",
   "id": "112e6e2e-79aa-4d0a-8b19-4699f7c1f296",
   "metadata": {
    "jp-MarkdownHeadingCollapsed": true,
    "tags": []
   },
   "source": [
    "## fine-tune with torch"
   ]
  },
  {
   "cell_type": "code",
   "execution_count": 17,
   "id": "b2b2e9cd-a553-4393-b16f-d3f4f028e652",
   "metadata": {},
   "outputs": [],
   "source": [
    "df_BAR, df_DEPR, df_OKR, df_RPP, df_SHIZ = transform_datasets((df_bar, df_depr, df_okr, df_rpp, df_shiz))"
   ]
  },
  {
   "cell_type": "code",
   "execution_count": 18,
   "id": "c2ee88dc-1fad-42b1-9515-8571e96c0d85",
   "metadata": {},
   "outputs": [],
   "source": [
    "train_size_bar = int(df_BAR.shape[0] * 0.8)\n",
    "train_size_depr = int(df_DEPR.shape[0] * 0.8)\n",
    "train_size_okr = int(df_OKR.shape[0] * 0.8)\n",
    "train_size_rpp = int(df_RPP.shape[0] * 0.8)\n",
    "train_size_shiz = int(df_SHIZ.shape[0] * 0.8)\n",
    "\n",
    "val_size_bar = int(df_BAR.shape[0] * 0.7)\n",
    "val_size_depr = int(df_DEPR.shape[0] * 0.7)\n",
    "val_size_okr = int(df_OKR.shape[0] * 0.7)\n",
    "val_size_rpp = int(df_RPP.shape[0] * 0.7)\n",
    "val_size_shiz = int(df_SHIZ.shape[0] * 0.7)\n",
    "\n",
    "df_bar = df_BAR.sample(frac=1).reset_index(drop=True)\n",
    "df_depr = df_DEPR.sample(frac=1).reset_index(drop=True)\n",
    "df_okr = df_OKR.sample(frac=1).reset_index(drop=True)\n",
    "df_rpp = df_RPP.sample(frac=1).reset_index(drop=True)\n",
    "df_shiz = df_SHIZ.sample(frac=1).reset_index(drop=True)\n",
    "\n",
    "df_bar_test = df_bar.iloc[train_size_bar:]\n",
    "df_depr_test = df_depr.iloc[train_size_depr:]\n",
    "df_okr_test = df_okr.iloc[train_size_okr:]\n",
    "df_rpp_test = df_rpp.iloc[train_size_rpp:]\n",
    "df_shiz_test = df_shiz.iloc[train_size_shiz:]\n",
    "\n",
    "df_bar_val = df_bar.iloc[val_size_bar:train_size_bar]\n",
    "df_depr_val = df_depr.iloc[val_size_depr:train_size_depr]\n",
    "df_okr_val = df_okr.iloc[val_size_okr:train_size_okr]\n",
    "df_rpp_val = df_rpp.iloc[val_size_rpp:train_size_rpp]\n",
    "df_shiz_val = df_shiz.iloc[val_size_shiz:train_size_shiz]\n",
    "\n",
    "df_bar_train = df_bar.iloc[:val_size_bar]\n",
    "df_depr_train = df_depr.iloc[:val_size_depr]\n",
    "df_okr_train = df_okr.iloc[:val_size_okr]\n",
    "df_rpp_train = df_rpp.iloc[:val_size_rpp]\n",
    "df_shiz_train = df_shiz.iloc[:val_size_shiz]"
   ]
  },
  {
   "cell_type": "code",
   "execution_count": 19,
   "id": "bd057817-ce00-445e-a52f-a60b8a64d65d",
   "metadata": {},
   "outputs": [],
   "source": [
    "df_train = pd.concat([df_bar_train, df_depr_train, df_okr_train, df_rpp_train, df_shiz_train]).sample(frac=1).reset_index(drop=True)\n",
    "df_test = pd.concat([df_bar_test, df_depr_test, df_okr_test, df_rpp_test, df_shiz_test]).sample(frac=1).reset_index(drop=True)\n",
    "df_val= pd.concat([df_bar_val, df_depr_val, df_okr_val, df_rpp_val, df_shiz_val]).sample(frac=1).reset_index(drop=True)"
   ]
  },
  {
   "cell_type": "code",
   "execution_count": 20,
   "id": "84971367-656a-47ea-bc96-95d56cb17c09",
   "metadata": {},
   "outputs": [
    {
     "data": {
      "text/html": [
       "<div>\n",
       "<style scoped>\n",
       "    .dataframe tbody tr th:only-of-type {\n",
       "        vertical-align: middle;\n",
       "    }\n",
       "\n",
       "    .dataframe tbody tr th {\n",
       "        vertical-align: top;\n",
       "    }\n",
       "\n",
       "    .dataframe thead th {\n",
       "        text-align: right;\n",
       "    }\n",
       "</style>\n",
       "<table border=\"1\" class=\"dataframe\">\n",
       "  <thead>\n",
       "    <tr style=\"text-align: right;\">\n",
       "      <th></th>\n",
       "      <th>text1</th>\n",
       "      <th>text2</th>\n",
       "      <th>label</th>\n",
       "    </tr>\n",
       "  </thead>\n",
       "  <tbody>\n",
       "    <tr>\n",
       "      <th>0</th>\n",
       "      <td>It started with a passion for esotericism and ...</td>\n",
       "      <td>schizophrenia</td>\n",
       "      <td>2</td>\n",
       "    </tr>\n",
       "    <tr>\n",
       "      <th>1</th>\n",
       "      <td>I don’t want anything, no hiking, no dancing, ...</td>\n",
       "      <td>depression</td>\n",
       "      <td>0</td>\n",
       "    </tr>\n",
       "    <tr>\n",
       "      <th>2</th>\n",
       "      <td>I am a teenager, I recently had rpp and becaus...</td>\n",
       "      <td>schizophrenia</td>\n",
       "      <td>2</td>\n",
       "    </tr>\n",
       "    <tr>\n",
       "      <th>3</th>\n",
       "      <td>Previously, I did not know that my condition h...</td>\n",
       "      <td>obsessive-compulsive disorder</td>\n",
       "      <td>0</td>\n",
       "    </tr>\n",
       "    <tr>\n",
       "      <th>4</th>\n",
       "      <td>I don’t know what to do anymore, pretending to...</td>\n",
       "      <td>obsessive-compulsive disorder</td>\n",
       "      <td>0</td>\n",
       "    </tr>\n",
       "    <tr>\n",
       "      <th>...</th>\n",
       "      <td>...</td>\n",
       "      <td>...</td>\n",
       "      <td>...</td>\n",
       "    </tr>\n",
       "    <tr>\n",
       "      <th>2882</th>\n",
       "      <td>Help! I eat 13 times today. I can not go on. H...</td>\n",
       "      <td>schizophrenia</td>\n",
       "      <td>2</td>\n",
       "    </tr>\n",
       "    <tr>\n",
       "      <th>2883</th>\n",
       "      <td>It so happened in my life that life and career...</td>\n",
       "      <td>depression</td>\n",
       "      <td>0</td>\n",
       "    </tr>\n",
       "    <tr>\n",
       "      <th>2884</th>\n",
       "      <td>Would you stop communicating with a person if ...</td>\n",
       "      <td>schizophrenia</td>\n",
       "      <td>0</td>\n",
       "    </tr>\n",
       "    <tr>\n",
       "      <th>2885</th>\n",
       "      <td>I need to talk to someone, otherwise I'll go c...</td>\n",
       "      <td>depression</td>\n",
       "      <td>0</td>\n",
       "    </tr>\n",
       "    <tr>\n",
       "      <th>2886</th>\n",
       "      <td>Hello! Please tell me how! My son is 14 years ...</td>\n",
       "      <td>depression</td>\n",
       "      <td>2</td>\n",
       "    </tr>\n",
       "  </tbody>\n",
       "</table>\n",
       "<p>2887 rows × 3 columns</p>\n",
       "</div>"
      ],
      "text/plain": [
       "                                                  text1  \\\n",
       "0     It started with a passion for esotericism and ...   \n",
       "1     I don’t want anything, no hiking, no dancing, ...   \n",
       "2     I am a teenager, I recently had rpp and becaus...   \n",
       "3     Previously, I did not know that my condition h...   \n",
       "4     I don’t know what to do anymore, pretending to...   \n",
       "...                                                 ...   \n",
       "2882  Help! I eat 13 times today. I can not go on. H...   \n",
       "2883  It so happened in my life that life and career...   \n",
       "2884  Would you stop communicating with a person if ...   \n",
       "2885  I need to talk to someone, otherwise I'll go c...   \n",
       "2886  Hello! Please tell me how! My son is 14 years ...   \n",
       "\n",
       "                              text2  label  \n",
       "0                     schizophrenia      2  \n",
       "1                        depression      0  \n",
       "2                     schizophrenia      2  \n",
       "3     obsessive-compulsive disorder      0  \n",
       "4     obsessive-compulsive disorder      0  \n",
       "...                             ...    ...  \n",
       "2882                  schizophrenia      2  \n",
       "2883                     depression      0  \n",
       "2884                  schizophrenia      0  \n",
       "2885                     depression      0  \n",
       "2886                     depression      2  \n",
       "\n",
       "[2887 rows x 3 columns]"
      ]
     },
     "execution_count": 20,
     "metadata": {},
     "output_type": "execute_result"
    }
   ],
   "source": [
    "df_train"
   ]
  },
  {
   "cell_type": "code",
   "execution_count": 21,
   "id": "196ec6fe-f704-4048-8e78-9314fbcceb69",
   "metadata": {},
   "outputs": [],
   "source": [
    "from sklearn.metrics import classification_report\n",
    "from transformers import pipeline, AutoModelForSequenceClassification, AutoTokenizer, TrainingArguments, Trainer, pipeline, AdamW\n",
    "from torch.utils.data import Dataset, DataLoader\n",
    "import torch\n",
    "from torch import nn"
   ]
  },
  {
   "cell_type": "code",
   "execution_count": 22,
   "id": "8f89aded-6789-4745-9718-0bddb533db02",
   "metadata": {},
   "outputs": [],
   "source": [
    "model_name = \"MoritzLaurer/multilingual-MiniLMv2-L6-mnli-xnli\"\n",
    "model = AutoModelForSequenceClassification.from_pretrained(model_name)\n",
    "tokenizer = AutoTokenizer.from_pretrained(model_name)"
   ]
  },
  {
   "cell_type": "code",
   "execution_count": 23,
   "id": "902e405f-00fe-4343-b8eb-f0b4882f0d58",
   "metadata": {},
   "outputs": [
    {
     "data": {
      "text/plain": [
       "{0: 'entailment', 1: 'neutral', 2: 'contradiction'}"
      ]
     },
     "execution_count": 23,
     "metadata": {},
     "output_type": "execute_result"
    }
   ],
   "source": [
    "model.config.id2label"
   ]
  },
  {
   "cell_type": "code",
   "execution_count": 24,
   "id": "070dceef-5c0b-43ba-9a1d-a3de4a1244e6",
   "metadata": {},
   "outputs": [
    {
     "data": {
      "text/plain": [
       "device(type='cuda')"
      ]
     },
     "execution_count": 24,
     "metadata": {},
     "output_type": "execute_result"
    }
   ],
   "source": [
    "device = torch.device(\"cuda\" if torch.cuda.is_available() else \"cpu\")\n",
    "device"
   ]
  },
  {
   "cell_type": "code",
   "execution_count": 25,
   "id": "27951b47-e6cd-4b9a-acbd-33d68951e014",
   "metadata": {},
   "outputs": [],
   "source": [
    "model = model.to(device)"
   ]
  },
  {
   "cell_type": "code",
   "execution_count": 26,
   "id": "de0b2bcb-bd1c-4dd3-bb18-19f4c09be0f4",
   "metadata": {},
   "outputs": [],
   "source": [
    "class CustomDataset(Dataset):\n",
    "    def __init__(self, dataframe, tokenizer, max_length):\n",
    "        self.data = dataframe\n",
    "        self.tokenizer = tokenizer\n",
    "        self.max_length = max_length\n",
    "        \n",
    "    def __len__(self):\n",
    "        return len(self.data)\n",
    "    \n",
    "    def __getitem__(self, idx):\n",
    "        premise = self.data['text1'][idx]\n",
    "        hypothesis = self.data['text2'][idx]\n",
    "        label = self.data['label'][idx]\n",
    "        \n",
    "        encoding = self.tokenizer.encode_plus(\n",
    "            premise,\n",
    "            hypothesis,\n",
    "            truncation=True,\n",
    "            padding='max_length',\n",
    "            max_length=self.max_length,\n",
    "            return_tensors='pt'\n",
    "        )\n",
    "        \n",
    "        return {\n",
    "            'input_ids': encoding['input_ids'].squeeze(),\n",
    "            'attention_mask': encoding['attention_mask'].squeeze(),\n",
    "            'labels': torch.tensor(label)\n",
    "        }"
   ]
  },
  {
   "cell_type": "code",
   "execution_count": 27,
   "id": "96badabc-e90e-40e4-bd5d-bbe3bf3ead12",
   "metadata": {},
   "outputs": [],
   "source": [
    "train_dataset = CustomDataset(df_train, tokenizer, max_length=64)\n",
    "eval_dataset = CustomDataset(df_val, tokenizer, max_length=64)"
   ]
  },
  {
   "cell_type": "code",
   "execution_count": 28,
   "id": "b24c5f45-d82a-43d6-8ebc-3bdda4f0fad8",
   "metadata": {},
   "outputs": [],
   "source": [
    "train_loader = DataLoader(train_dataset, batch_size=1, shuffle=True)\n",
    "eval_loader = DataLoader(eval_dataset, batch_size=1, shuffle=False)"
   ]
  },
  {
   "cell_type": "code",
   "execution_count": 29,
   "id": "aa32c4c1-e8bd-4d38-b165-3b9d3a5c756c",
   "metadata": {},
   "outputs": [
    {
     "name": "stderr",
     "output_type": "stream",
     "text": [
      "D:\\Users\\Nurlan\\miniconda3\\lib\\site-packages\\transformers\\optimization.py:306: FutureWarning: This implementation of AdamW is deprecated and will be removed in a future version. Use the PyTorch implementation torch.optim.AdamW instead, or set `no_deprecation_warning=True` to disable this warning\n",
      "  warnings.warn(\n"
     ]
    }
   ],
   "source": [
    "optimizer = AdamW(model.parameters(), lr=1e-5)"
   ]
  },
  {
   "cell_type": "code",
   "execution_count": 30,
   "id": "276ce126-12c1-4e78-b612-588d235cc3bb",
   "metadata": {},
   "outputs": [
    {
     "name": "stderr",
     "output_type": "stream",
     "text": [
      "  0%|                                                                                         | 0/2887 [00:03<?, ?it/s]\n"
     ]
    },
    {
     "ename": "OutOfMemoryError",
     "evalue": "CUDA out of memory. Tried to allocate 368.00 MiB (GPU 0; 2.00 GiB total capacity; 1.51 GiB already allocated; 0 bytes free; 1.53 GiB reserved in total by PyTorch) If reserved memory is >> allocated memory try setting max_split_size_mb to avoid fragmentation.  See documentation for Memory Management and PYTORCH_CUDA_ALLOC_CONF",
     "output_type": "error",
     "traceback": [
      "\u001b[1;31m---------------------------------------------------------------------------\u001b[0m",
      "\u001b[1;31mOutOfMemoryError\u001b[0m                          Traceback (most recent call last)",
      "Cell \u001b[1;32mIn[30], line 18\u001b[0m\n\u001b[0;32m     15\u001b[0m     total_loss \u001b[38;5;241m+\u001b[39m\u001b[38;5;241m=\u001b[39m loss\u001b[38;5;241m.\u001b[39mitem()\n\u001b[0;32m     17\u001b[0m     loss\u001b[38;5;241m.\u001b[39mbackward()\n\u001b[1;32m---> 18\u001b[0m     \u001b[43moptimizer\u001b[49m\u001b[38;5;241;43m.\u001b[39;49m\u001b[43mstep\u001b[49m\u001b[43m(\u001b[49m\u001b[43m)\u001b[49m\n\u001b[0;32m     20\u001b[0m average_loss \u001b[38;5;241m=\u001b[39m total_loss \u001b[38;5;241m/\u001b[39m \u001b[38;5;28mlen\u001b[39m(train_loader)\n\u001b[0;32m     21\u001b[0m \u001b[38;5;28mprint\u001b[39m(\u001b[38;5;124mf\u001b[39m\u001b[38;5;124m\"\u001b[39m\u001b[38;5;124mEpoch \u001b[39m\u001b[38;5;132;01m{\u001b[39;00mepoch\u001b[38;5;250m \u001b[39m\u001b[38;5;241m+\u001b[39m\u001b[38;5;250m \u001b[39m\u001b[38;5;241m1\u001b[39m\u001b[38;5;132;01m}\u001b[39;00m\u001b[38;5;124m/\u001b[39m\u001b[38;5;132;01m{\u001b[39;00m\u001b[38;5;241m3\u001b[39m\u001b[38;5;132;01m}\u001b[39;00m\u001b[38;5;124m - Average Loss: \u001b[39m\u001b[38;5;132;01m{\u001b[39;00maverage_loss\u001b[38;5;132;01m:\u001b[39;00m\u001b[38;5;124m.4f\u001b[39m\u001b[38;5;132;01m}\u001b[39;00m\u001b[38;5;124m\"\u001b[39m)\n",
      "File \u001b[1;32mD:\\Users\\Nurlan\\miniconda3\\lib\\site-packages\\torch\\optim\\optimizer.py:140\u001b[0m, in \u001b[0;36mOptimizer._hook_for_profile.<locals>.profile_hook_step.<locals>.wrapper\u001b[1;34m(*args, **kwargs)\u001b[0m\n\u001b[0;32m    138\u001b[0m profile_name \u001b[38;5;241m=\u001b[39m \u001b[38;5;124m\"\u001b[39m\u001b[38;5;124mOptimizer.step#\u001b[39m\u001b[38;5;132;01m{}\u001b[39;00m\u001b[38;5;124m.step\u001b[39m\u001b[38;5;124m\"\u001b[39m\u001b[38;5;241m.\u001b[39mformat(obj\u001b[38;5;241m.\u001b[39m\u001b[38;5;18m__class__\u001b[39m\u001b[38;5;241m.\u001b[39m\u001b[38;5;18m__name__\u001b[39m)\n\u001b[0;32m    139\u001b[0m \u001b[38;5;28;01mwith\u001b[39;00m torch\u001b[38;5;241m.\u001b[39mautograd\u001b[38;5;241m.\u001b[39mprofiler\u001b[38;5;241m.\u001b[39mrecord_function(profile_name):\n\u001b[1;32m--> 140\u001b[0m     out \u001b[38;5;241m=\u001b[39m func(\u001b[38;5;241m*\u001b[39margs, \u001b[38;5;241m*\u001b[39m\u001b[38;5;241m*\u001b[39mkwargs)\n\u001b[0;32m    141\u001b[0m     obj\u001b[38;5;241m.\u001b[39m_optimizer_step_code()\n\u001b[0;32m    142\u001b[0m     \u001b[38;5;28;01mreturn\u001b[39;00m out\n",
      "File \u001b[1;32mD:\\Users\\Nurlan\\miniconda3\\lib\\site-packages\\transformers\\optimization.py:362\u001b[0m, in \u001b[0;36mAdamW.step\u001b[1;34m(self, closure)\u001b[0m\n\u001b[0;32m    360\u001b[0m exp_avg\u001b[38;5;241m.\u001b[39mmul_(beta1)\u001b[38;5;241m.\u001b[39madd_(grad, alpha\u001b[38;5;241m=\u001b[39m(\u001b[38;5;241m1.0\u001b[39m \u001b[38;5;241m-\u001b[39m beta1))\n\u001b[0;32m    361\u001b[0m exp_avg_sq\u001b[38;5;241m.\u001b[39mmul_(beta2)\u001b[38;5;241m.\u001b[39maddcmul_(grad, grad, value\u001b[38;5;241m=\u001b[39m\u001b[38;5;241m1.0\u001b[39m \u001b[38;5;241m-\u001b[39m beta2)\n\u001b[1;32m--> 362\u001b[0m denom \u001b[38;5;241m=\u001b[39m \u001b[43mexp_avg_sq\u001b[49m\u001b[38;5;241;43m.\u001b[39;49m\u001b[43msqrt\u001b[49m\u001b[43m(\u001b[49m\u001b[43m)\u001b[49m\u001b[38;5;241m.\u001b[39madd_(group[\u001b[38;5;124m\"\u001b[39m\u001b[38;5;124meps\u001b[39m\u001b[38;5;124m\"\u001b[39m])\n\u001b[0;32m    364\u001b[0m step_size \u001b[38;5;241m=\u001b[39m group[\u001b[38;5;124m\"\u001b[39m\u001b[38;5;124mlr\u001b[39m\u001b[38;5;124m\"\u001b[39m]\n\u001b[0;32m    365\u001b[0m \u001b[38;5;28;01mif\u001b[39;00m group[\u001b[38;5;124m\"\u001b[39m\u001b[38;5;124mcorrect_bias\u001b[39m\u001b[38;5;124m\"\u001b[39m]:  \u001b[38;5;66;03m# No bias correction for Bert\u001b[39;00m\n",
      "\u001b[1;31mOutOfMemoryError\u001b[0m: CUDA out of memory. Tried to allocate 368.00 MiB (GPU 0; 2.00 GiB total capacity; 1.51 GiB already allocated; 0 bytes free; 1.53 GiB reserved in total by PyTorch) If reserved memory is >> allocated memory try setting max_split_size_mb to avoid fragmentation.  See documentation for Memory Management and PYTORCH_CUDA_ALLOC_CONF"
     ]
    }
   ],
   "source": [
    "model.train()\n",
    "for epoch in range(2):\n",
    "    total_loss = 0\n",
    "    for batch in tqdm(train_loader):\n",
    "        inputs = {\n",
    "            'input_ids': batch['input_ids'].to(device),\n",
    "            'attention_mask': batch['attention_mask'].to(device),\n",
    "            'labels': batch['labels'].to(device)\n",
    "        }\n",
    "        \n",
    "        optimizer.zero_grad()\n",
    "        outputs = model(**inputs)\n",
    "        loss = outputs.loss\n",
    "        \n",
    "        total_loss += loss.item()\n",
    "        \n",
    "        loss.backward()\n",
    "        optimizer.step()\n",
    "        \n",
    "    average_loss = total_loss / len(train_loader)\n",
    "    print(f\"Epoch {epoch + 1}/{3} - Average Loss: {average_loss:.4f}\")"
   ]
  },
  {
   "cell_type": "markdown",
   "id": "9b326f15-91f0-457c-9620-63fa5d07acf9",
   "metadata": {
    "tags": []
   },
   "source": [
    "# typeform/distilbert-base-uncased-mnli"
   ]
  },
  {
   "cell_type": "markdown",
   "id": "742aef35-ec2b-4543-92cd-ae60e5bc8fe4",
   "metadata": {
    "tags": []
   },
   "source": [
    "## из коробки"
   ]
  },
  {
   "cell_type": "code",
   "execution_count": 16,
   "id": "c59a6add-23e8-4181-b6ad-f508f24e35b4",
   "metadata": {},
   "outputs": [],
   "source": [
    "from sklearn.metrics import classification_report"
   ]
  },
  {
   "cell_type": "code",
   "execution_count": 17,
   "id": "5fca02ab-a2a7-41ae-8b22-ffeea46f1e40",
   "metadata": {},
   "outputs": [],
   "source": [
    "df = pd.concat([df_bar, df_depr, df_okr, df_rpp, df_shiz])"
   ]
  },
  {
   "cell_type": "code",
   "execution_count": 18,
   "id": "5307a7f0-0a23-4c27-85f4-34d2facd257d",
   "metadata": {},
   "outputs": [
    {
     "data": {
      "text/html": [
       "<div>\n",
       "<style scoped>\n",
       "    .dataframe tbody tr th:only-of-type {\n",
       "        vertical-align: middle;\n",
       "    }\n",
       "\n",
       "    .dataframe tbody tr th {\n",
       "        vertical-align: top;\n",
       "    }\n",
       "\n",
       "    .dataframe thead th {\n",
       "        text-align: right;\n",
       "    }\n",
       "</style>\n",
       "<table border=\"1\" class=\"dataframe\">\n",
       "  <thead>\n",
       "    <tr style=\"text-align: right;\">\n",
       "      <th></th>\n",
       "      <th>text</th>\n",
       "      <th>label</th>\n",
       "      <th>text_tr</th>\n",
       "      <th>label_tr</th>\n",
       "    </tr>\n",
       "  </thead>\n",
       "  <tbody>\n",
       "    <tr>\n",
       "      <th>0</th>\n",
       "      <td>биполярный расстройство личность тот иметь как...</td>\n",
       "      <td>биполярное аффективное расстройство</td>\n",
       "      <td>Bipolar personality disorder, those who have, ...</td>\n",
       "      <td>bipolar affective disorder</td>\n",
       "    </tr>\n",
       "    <tr>\n",
       "      <th>1</th>\n",
       "      <td>биполярный расстройство год пять периодически ...</td>\n",
       "      <td>биполярное аффективное расстройство</td>\n",
       "      <td>I've had bipolar disorder for five years. From...</td>\n",
       "      <td>bipolar affective disorder</td>\n",
       "    </tr>\n",
       "    <tr>\n",
       "      <th>2</th>\n",
       "      <td>добрый вечер тот страдать биполярный расстройс...</td>\n",
       "      <td>биполярное аффективное расстройство</td>\n",
       "      <td>good evening, is there anyone here who suffers...</td>\n",
       "      <td>bipolar affective disorder</td>\n",
       "    </tr>\n",
       "    <tr>\n",
       "      <th>3</th>\n",
       "      <td>здравствуйте мой молодой человек биполярный ра...</td>\n",
       "      <td>биполярное аффективное расстройство</td>\n",
       "      <td>Hello! My boyfriend has bipolar disorder. When...</td>\n",
       "      <td>bipolar affective disorder</td>\n",
       "    </tr>\n",
       "    <tr>\n",
       "      <th>4</th>\n",
       "      <td>здравствуйте страдать биполярный расстройство ...</td>\n",
       "      <td>биполярное аффективное расстройство</td>\n",
       "      <td>Hello. who suffers from bipolar disorder, how ...</td>\n",
       "      <td>bipolar affective disorder</td>\n",
       "    </tr>\n",
       "  </tbody>\n",
       "</table>\n",
       "</div>"
      ],
      "text/plain": [
       "                                                text  \\\n",
       "0  биполярный расстройство личность тот иметь как...   \n",
       "1  биполярный расстройство год пять периодически ...   \n",
       "2  добрый вечер тот страдать биполярный расстройс...   \n",
       "3  здравствуйте мой молодой человек биполярный ра...   \n",
       "4  здравствуйте страдать биполярный расстройство ...   \n",
       "\n",
       "                                 label  \\\n",
       "0  биполярное аффективное расстройство   \n",
       "1  биполярное аффективное расстройство   \n",
       "2  биполярное аффективное расстройство   \n",
       "3  биполярное аффективное расстройство   \n",
       "4  биполярное аффективное расстройство   \n",
       "\n",
       "                                             text_tr  \\\n",
       "0  Bipolar personality disorder, those who have, ...   \n",
       "1  I've had bipolar disorder for five years. From...   \n",
       "2  good evening, is there anyone here who suffers...   \n",
       "3  Hello! My boyfriend has bipolar disorder. When...   \n",
       "4  Hello. who suffers from bipolar disorder, how ...   \n",
       "\n",
       "                     label_tr  \n",
       "0  bipolar affective disorder  \n",
       "1  bipolar affective disorder  \n",
       "2  bipolar affective disorder  \n",
       "3  bipolar affective disorder  \n",
       "4  bipolar affective disorder  "
      ]
     },
     "execution_count": 18,
     "metadata": {},
     "output_type": "execute_result"
    }
   ],
   "source": [
    "df.head(5)"
   ]
  },
  {
   "cell_type": "code",
   "execution_count": 19,
   "id": "9931775b-588b-4733-93c2-d1c993f98cfb",
   "metadata": {},
   "outputs": [],
   "source": [
    "from sklearn.preprocessing import LabelEncoder"
   ]
  },
  {
   "cell_type": "code",
   "execution_count": 20,
   "id": "aa579598-5afa-4ae9-b652-185a54636255",
   "metadata": {},
   "outputs": [
    {
     "data": {
      "text/plain": [
       "array(['bipolar affective disorder', 'depression', 'eating disorder',\n",
       "       'obsessive-compulsive disorder', 'schizophrenia'], dtype=object)"
      ]
     },
     "execution_count": 20,
     "metadata": {},
     "output_type": "execute_result"
    }
   ],
   "source": [
    "my_l = np.unique(df['label_tr'].values)\n",
    "my_l"
   ]
  },
  {
   "cell_type": "code",
   "execution_count": 21,
   "id": "0b39368b-3ace-4f70-ad9b-c185ff83cfeb",
   "metadata": {},
   "outputs": [],
   "source": [
    "from sklearn.metrics import classification_report\n",
    "from transformers import pipeline, AutoModelForSequenceClassification, AutoTokenizer, TrainingArguments, Trainer, pipeline\n",
    "from torch.utils.data import Dataset, DataLoader\n",
    "import torch"
   ]
  },
  {
   "cell_type": "code",
   "execution_count": 22,
   "id": "31123862-605c-49c9-b623-76998ebb641f",
   "metadata": {},
   "outputs": [],
   "source": [
    "model_name = 'typeform/distilbert-base-uncased-mnli'\n",
    "# model = AutoModelForSequenceClassification.from_pretrained(model_name, num_labels=5,ignore_mismatched_sizes=True)\n",
    "# tokenizer = AutoTokenizer.from_pretrained(model_name)"
   ]
  },
  {
   "cell_type": "code",
   "execution_count": 23,
   "id": "ee6b4781-d4dd-4a49-b064-cef5fc3f8c93",
   "metadata": {},
   "outputs": [
    {
     "name": "stderr",
     "output_type": "stream",
     "text": [
      "The `xla_device` argument has been deprecated in v4.4.0 of Transformers. It is ignored and you can safely remove it from your `config.json` file.\n",
      "The `xla_device` argument has been deprecated in v4.4.0 of Transformers. It is ignored and you can safely remove it from your `config.json` file.\n",
      "The `xla_device` argument has been deprecated in v4.4.0 of Transformers. It is ignored and you can safely remove it from your `config.json` file.\n",
      "The `xla_device` argument has been deprecated in v4.4.0 of Transformers. It is ignored and you can safely remove it from your `config.json` file.\n",
      "The `xla_device` argument has been deprecated in v4.4.0 of Transformers. It is ignored and you can safely remove it from your `config.json` file.\n"
     ]
    }
   ],
   "source": [
    "classifier = pipeline(\"zero-shot-classification\", model=model_name)"
   ]
  },
  {
   "cell_type": "code",
   "execution_count": 26,
   "id": "45e4b94d-1206-42dd-8d20-0091f87381d2",
   "metadata": {},
   "outputs": [
    {
     "name": "stderr",
     "output_type": "stream",
     "text": [
      "100%|██████████████████████████████████████████████████████████████████████████████| 2064/2064 [52:02<00:00,  1.51s/it]\n"
     ]
    }
   ],
   "source": [
    "preds = []\n",
    "with torch.no_grad():\n",
    "    for elem in tqdm(list(df['text_tr'])):\n",
    "        prediction = classifier(elem, my_l)\n",
    "        q = prediction['labels'][np.argmax(prediction['scores'])]\n",
    "        preds.append(q)"
   ]
  },
  {
   "cell_type": "code",
   "execution_count": 27,
   "id": "e3187fc6-535f-46d6-badd-49492a9db81e",
   "metadata": {},
   "outputs": [
    {
     "name": "stdout",
     "output_type": "stream",
     "text": [
      "                               precision    recall  f1-score   support\n",
      "\n",
      "   bipolar affective disorder       0.71      0.28      0.40       228\n",
      "                   depression       0.65      0.65      0.65       621\n",
      "              eating disorder       0.59      0.47      0.52       367\n",
      "obsessive-compulsive disorder       0.22      0.65      0.32       236\n",
      "                schizophrenia       0.82      0.48      0.61       612\n",
      "\n",
      "                     accuracy                           0.53      2064\n",
      "                    macro avg       0.60      0.51      0.50      2064\n",
      "                 weighted avg       0.65      0.53      0.55      2064\n",
      "\n"
     ]
    }
   ],
   "source": [
    "print(classification_report(list(df['label_tr']), preds, zero_division=0))"
   ]
  },
  {
   "cell_type": "markdown",
   "id": "1cc45965-bb23-4a61-8142-c531a72a5a6b",
   "metadata": {
    "jp-MarkdownHeadingCollapsed": true,
    "tags": []
   },
   "source": [
    "## fine-tune"
   ]
  },
  {
   "cell_type": "code",
   "execution_count": 16,
   "id": "2257ba79-2e37-497c-9489-da3c607079bb",
   "metadata": {},
   "outputs": [],
   "source": [
    "train_size_bar = int(df_bar.shape[0] * 0.8)\n",
    "train_size_depr = int(df_depr.shape[0] * 0.8)\n",
    "train_size_okr = int(df_okr.shape[0] * 0.8)\n",
    "train_size_rpp = int(df_rpp.shape[0] * 0.8)\n",
    "train_size_shiz = int(df_shiz.shape[0] * 0.8)"
   ]
  },
  {
   "cell_type": "code",
   "execution_count": 17,
   "id": "3ec27f4b-bd39-49be-92d7-4db46409ffd8",
   "metadata": {},
   "outputs": [],
   "source": [
    "val_size_bar = int(df_bar.shape[0] * 0.7)\n",
    "val_size_depr = int(df_depr.shape[0] * 0.7)\n",
    "val_size_okr = int(df_okr.shape[0] * 0.7)\n",
    "val_size_rpp = int(df_rpp.shape[0] * 0.7)\n",
    "val_size_shiz = int(df_shiz.shape[0] * 0.7)"
   ]
  },
  {
   "cell_type": "code",
   "execution_count": 18,
   "id": "b9dc9860-cf77-49a2-a7ec-a5331e25e622",
   "metadata": {},
   "outputs": [],
   "source": [
    "df_bar = df_bar.sample(frac=1).reset_index(drop=True)\n",
    "df_depr = df_depr.sample(frac=1).reset_index(drop=True)\n",
    "df_okr = df_okr.sample(frac=1).reset_index(drop=True)\n",
    "df_rpp = df_rpp.sample(frac=1).reset_index(drop=True)\n",
    "df_shiz = df_shiz.sample(frac=1).reset_index(drop=True)"
   ]
  },
  {
   "cell_type": "code",
   "execution_count": 19,
   "id": "bbff071a-9ece-4b0c-9484-517fdaf67a7b",
   "metadata": {},
   "outputs": [],
   "source": [
    "df_bar_test = df_bar.iloc[train_size_bar:]\n",
    "df_depr_test = df_depr.iloc[train_size_depr:]\n",
    "df_okr_test = df_okr.iloc[train_size_okr:]\n",
    "df_rpp_test = df_rpp.iloc[train_size_rpp:]\n",
    "df_shiz_test = df_shiz.iloc[train_size_shiz:]"
   ]
  },
  {
   "cell_type": "code",
   "execution_count": 20,
   "id": "5a7b2edc-b40b-4a2f-b971-51f6ded92dd5",
   "metadata": {},
   "outputs": [],
   "source": [
    "df_bar_val = df_bar.iloc[val_size_bar:train_size_bar]\n",
    "df_depr_val = df_depr.iloc[val_size_depr:train_size_depr]\n",
    "df_okr_val = df_okr.iloc[val_size_okr:train_size_okr]\n",
    "df_rpp_val = df_rpp.iloc[val_size_rpp:train_size_rpp]\n",
    "df_shiz_val = df_shiz.iloc[val_size_shiz:train_size_shiz]"
   ]
  },
  {
   "cell_type": "code",
   "execution_count": 21,
   "id": "2bcc1ca6-164c-45cc-a9c1-cc13eaaedf71",
   "metadata": {},
   "outputs": [],
   "source": [
    "df_bar_train = df_bar.iloc[:val_size_bar]\n",
    "df_depr_train = df_depr.iloc[:val_size_depr]\n",
    "df_okr_train = df_okr.iloc[:val_size_okr]\n",
    "df_rpp_train = df_rpp.iloc[:val_size_rpp]\n",
    "df_shiz_train = df_shiz.iloc[:val_size_shiz]"
   ]
  },
  {
   "cell_type": "code",
   "execution_count": null,
   "id": "b2a429fa-703a-4571-8561-0b1840c6424f",
   "metadata": {},
   "outputs": [],
   "source": []
  },
  {
   "cell_type": "code",
   "execution_count": 22,
   "id": "6872afc0-3e0f-4b18-af41-af2359821b65",
   "metadata": {},
   "outputs": [],
   "source": [
    "df_train = pd.concat([df_bar_train, df_depr_train, df_okr_train, df_rpp_train, df_shiz_train]).sample(frac=1).reset_index(drop=True)"
   ]
  },
  {
   "cell_type": "code",
   "execution_count": 23,
   "id": "2b6162f3-25af-49a1-9b93-a5309f6e68f7",
   "metadata": {},
   "outputs": [
    {
     "data": {
      "text/html": [
       "<div>\n",
       "<style scoped>\n",
       "    .dataframe tbody tr th:only-of-type {\n",
       "        vertical-align: middle;\n",
       "    }\n",
       "\n",
       "    .dataframe tbody tr th {\n",
       "        vertical-align: top;\n",
       "    }\n",
       "\n",
       "    .dataframe thead th {\n",
       "        text-align: right;\n",
       "    }\n",
       "</style>\n",
       "<table border=\"1\" class=\"dataframe\">\n",
       "  <thead>\n",
       "    <tr style=\"text-align: right;\">\n",
       "      <th></th>\n",
       "      <th>text</th>\n",
       "      <th>label</th>\n",
       "      <th>text_tr</th>\n",
       "      <th>label_tr</th>\n",
       "    </tr>\n",
       "  </thead>\n",
       "  <tbody>\n",
       "    <tr>\n",
       "      <th>0</th>\n",
       "      <td>это отличить часто думать это человек тяжёлый ...</td>\n",
       "      <td>шизофрения</td>\n",
       "      <td>How to distinguish it. After all, you can ofte...</td>\n",
       "      <td>schizophrenia</td>\n",
       "    </tr>\n",
       "    <tr>\n",
       "      <th>1</th>\n",
       "      <td>помочь пожалуйста чувствовать течь крыша тема ...</td>\n",
       "      <td>расстройство пищевого поведения</td>\n",
       "      <td>Please help, I feel like the roof is leaking a...</td>\n",
       "      <td>eating disorder</td>\n",
       "    </tr>\n",
       "    <tr>\n",
       "      <th>2</th>\n",
       "      <td>взаимосвязанный вес откуда вообще появляться к...</td>\n",
       "      <td>расстройство пищевого поведения</td>\n",
       "      <td>Are they always related to weight. Where do th...</td>\n",
       "      <td>eating disorder</td>\n",
       "    </tr>\n",
       "  </tbody>\n",
       "</table>\n",
       "</div>"
      ],
      "text/plain": [
       "                                                text  \\\n",
       "0  это отличить часто думать это человек тяжёлый ...   \n",
       "1  помочь пожалуйста чувствовать течь крыша тема ...   \n",
       "2  взаимосвязанный вес откуда вообще появляться к...   \n",
       "\n",
       "                             label  \\\n",
       "0                       шизофрения   \n",
       "1  расстройство пищевого поведения   \n",
       "2  расстройство пищевого поведения   \n",
       "\n",
       "                                             text_tr         label_tr  \n",
       "0  How to distinguish it. After all, you can ofte...    schizophrenia  \n",
       "1  Please help, I feel like the roof is leaking a...  eating disorder  \n",
       "2  Are they always related to weight. Where do th...  eating disorder  "
      ]
     },
     "execution_count": 23,
     "metadata": {},
     "output_type": "execute_result"
    }
   ],
   "source": [
    "df_train.head(3)"
   ]
  },
  {
   "cell_type": "code",
   "execution_count": 24,
   "id": "d99fc70e-ef14-41c0-970b-4ee6008186c3",
   "metadata": {},
   "outputs": [],
   "source": [
    "df_test = pd.concat([df_bar_test, df_depr_test, df_okr_test, df_rpp_test, df_shiz_test]).sample(frac=1).reset_index(drop=True)\n",
    "df_val= pd.concat([df_bar_val, df_depr_val, df_okr_val, df_rpp_val, df_shiz_val]).sample(frac=1).reset_index(drop=True)"
   ]
  },
  {
   "cell_type": "code",
   "execution_count": 25,
   "id": "7c72f05a-bdc9-4f64-9d7a-c369026386a3",
   "metadata": {},
   "outputs": [],
   "source": [
    "# max_l1 = 0\n",
    "# max_l2 = 0\n",
    "# for text in list(df_train['text']):\n",
    "#     if len(text) > max_l1:\n",
    "#         max_l1 = len(text)\n",
    "        \n",
    "# for text in list(df_test['text']):\n",
    "#     if len(text) > max_l2:\n",
    "#         max_l2 = len(text)\n",
    "        \n",
    "# max_l = max(max_l1, max_l2)\n",
    "# max_l, max_l1, max_l2"
   ]
  },
  {
   "cell_type": "code",
   "execution_count": 26,
   "id": "50e0759a-1c9a-4c22-a543-ece7222c15d8",
   "metadata": {},
   "outputs": [
    {
     "data": {
      "text/plain": [
       "((1442, 4), (416, 4))"
      ]
     },
     "execution_count": 26,
     "metadata": {},
     "output_type": "execute_result"
    }
   ],
   "source": [
    "df_train.shape, df_test.shape"
   ]
  },
  {
   "cell_type": "code",
   "execution_count": 27,
   "id": "d6f59a24-0931-4ec7-a8ca-0ceb75fbb17e",
   "metadata": {},
   "outputs": [],
   "source": [
    "from sklearn.preprocessing import LabelEncoder"
   ]
  },
  {
   "cell_type": "code",
   "execution_count": 28,
   "id": "3c07b1d5-d33b-4056-902b-319c3d355526",
   "metadata": {},
   "outputs": [],
   "source": [
    "my_l = ['bipolar affective disorder', 'depression', 'eating disorder', 'obsessive-compulsive disorder', 'schizophrenia']"
   ]
  },
  {
   "cell_type": "code",
   "execution_count": 29,
   "id": "a94630b3-e99d-45e0-9155-3a5892d41239",
   "metadata": {},
   "outputs": [],
   "source": [
    "encoder = LabelEncoder()"
   ]
  },
  {
   "cell_type": "code",
   "execution_count": 30,
   "id": "5ed96bee-8608-45e0-b6ba-1d69c28c0df3",
   "metadata": {},
   "outputs": [],
   "source": [
    "encoded_labels = encoder.fit(my_l)"
   ]
  },
  {
   "cell_type": "code",
   "execution_count": 31,
   "id": "94569c59-2785-4ade-98a6-8da402f4d5ce",
   "metadata": {},
   "outputs": [
    {
     "name": "stdout",
     "output_type": "stream",
     "text": [
      "0      schizophrenia\n",
      "1    eating disorder\n",
      "2    eating disorder\n",
      "3      schizophrenia\n",
      "4         depression\n",
      "Name: label_tr, dtype: object\n",
      "[4 2 2 4 1]\n"
     ]
    }
   ],
   "source": [
    "print(df_train['label_tr'][:5])\n",
    "q = encoder.transform(df_train['label_tr'][:5])\n",
    "print(q)\n",
    "#print(encoder.inverse_transform(q))"
   ]
  },
  {
   "cell_type": "code",
   "execution_count": 33,
   "id": "3be0ee5b-431f-4bbe-8aec-c22c62b6e6b6",
   "metadata": {},
   "outputs": [],
   "source": [
    "# qq = q.astype('long')\n",
    "# type(qq[0])"
   ]
  },
  {
   "cell_type": "code",
   "execution_count": 34,
   "id": "1f7addd6-b3b8-48d2-923b-d47c55e8319c",
   "metadata": {},
   "outputs": [],
   "source": [
    "from sklearn.metrics import classification_report\n",
    "from transformers import pipeline, AutoModelForSequenceClassification, AutoTokenizer, TrainingArguments, Trainer\n",
    "from torch.utils.data import Dataset, DataLoader\n",
    "import torch"
   ]
  },
  {
   "cell_type": "code",
   "execution_count": 35,
   "id": "0cbdc0b3-e471-467a-8d4b-84cca1611bd9",
   "metadata": {},
   "outputs": [
    {
     "name": "stderr",
     "output_type": "stream",
     "text": [
      "The `xla_device` argument has been deprecated in v4.4.0 of Transformers. It is ignored and you can safely remove it from your `config.json` file.\n",
      "The `xla_device` argument has been deprecated in v4.4.0 of Transformers. It is ignored and you can safely remove it from your `config.json` file.\n",
      "The `xla_device` argument has been deprecated in v4.4.0 of Transformers. It is ignored and you can safely remove it from your `config.json` file.\n",
      "The `xla_device` argument has been deprecated in v4.4.0 of Transformers. It is ignored and you can safely remove it from your `config.json` file.\n"
     ]
    }
   ],
   "source": [
    "model_name = 'typeform/distilbert-base-uncased-mnli'\n",
    "model = AutoModelForSequenceClassification.from_pretrained(model_name)#, num_labels=5,ignore_mismatched_sizes=True)\n",
    "tokenizer = AutoTokenizer.from_pretrained(model_name)"
   ]
  },
  {
   "cell_type": "code",
   "execution_count": 35,
   "id": "7c67c185-e15d-4d48-9048-3ea07b4fd7f9",
   "metadata": {},
   "outputs": [],
   "source": [
    "train_encodings = tokenizer(list(df_train['text']), truncation=True, padding=True)\n",
    "test_encodings = tokenizer(list(df_test['text']), truncation=True, padding=True)\n",
    "val_encodings = tokenizer(list(df_val['text']), truncation=True, padding=True)"
   ]
  },
  {
   "cell_type": "code",
   "execution_count": 36,
   "id": "13373605-4f23-4a4c-92f6-051b465e9963",
   "metadata": {},
   "outputs": [],
   "source": [
    "#pd.get_dummies(df_train['label']).values"
   ]
  },
  {
   "cell_type": "code",
   "execution_count": 37,
   "id": "673fafc9-62e4-42d8-9feb-921f65b30335",
   "metadata": {},
   "outputs": [],
   "source": [
    "class CustomDataset(Dataset):\n",
    "    def __init__(self, encodings, labels):\n",
    "        self.encodings = encodings\n",
    "        self.labels = labels\n",
    "\n",
    "    def __getitem__(self, idx):\n",
    "        item = {key: torch.tensor(val[idx]) for key, val in self.encodings.items()}\n",
    "        item['labels'] = torch.tensor(self.labels[idx], dtype=torch.long)\n",
    "        return item\n",
    "\n",
    "    def __len__(self):\n",
    "        return len(self.labels)"
   ]
  },
  {
   "cell_type": "code",
   "execution_count": 38,
   "id": "11a59b06-2eda-4d0f-ad78-25b04efb87b0",
   "metadata": {},
   "outputs": [],
   "source": [
    "train_dataset = CustomDataset(train_encodings, encoder.transform(df_train['label_tr']))\n",
    "test_dataset = CustomDataset(test_encodings, encoder.transform(df_test['label_tr']))\n",
    "val_dataset = CustomDataset(val_encodings, encoder.transform(df_val['label_tr']))"
   ]
  },
  {
   "cell_type": "code",
   "execution_count": 39,
   "id": "a4843662-d262-4a96-b992-ffe075b32832",
   "metadata": {},
   "outputs": [],
   "source": [
    "training_args = TrainingArguments(\n",
    "    output_dir='./results',          # output directory\n",
    "    num_train_epochs=2,              # total number of training epochs\n",
    "    per_device_train_batch_size=2,  # batch size per device during training\n",
    "    #per_device_eval_batch_size=4,   # batch size for evaluation\n",
    "    #warmup_steps=500,                # number of warmup steps for learning rate scheduler\n",
    "    weight_decay=0.06,               # strength of weight decay\n",
    "    logging_dir='./logs',            # directory for storing logs\n",
    "    warmup_ratio=0.1,\n",
    "\n",
    ")"
   ]
  },
  {
   "cell_type": "code",
   "execution_count": 40,
   "id": "d4f3ae6f-e587-4db8-9d6d-2a37ad2dd66e",
   "metadata": {},
   "outputs": [],
   "source": [
    "trainer = Trainer(\n",
    "    model=model,                         # the instantiated Transformers model to be trained\n",
    "    args=training_args,                  # training arguments, defined above\n",
    "    train_dataset=train_dataset,         # training dataset\n",
    "    eval_dataset=val_dataset             # evaluation dataset\n",
    ")"
   ]
  },
  {
   "cell_type": "code",
   "execution_count": 41,
   "id": "1acb14ca-da91-4d4d-b718-9c692bf8530a",
   "metadata": {},
   "outputs": [
    {
     "name": "stderr",
     "output_type": "stream",
     "text": [
      "D:\\Users\\Nurlan\\miniconda3\\lib\\site-packages\\transformers\\optimization.py:306: FutureWarning: This implementation of AdamW is deprecated and will be removed in a future version. Use the PyTorch implementation torch.optim.AdamW instead, or set `no_deprecation_warning=True` to disable this warning\n",
      "  warnings.warn(\n",
      "***** Running training *****\n",
      "  Num examples = 1442\n",
      "  Num Epochs = 2\n",
      "  Instantaneous batch size per device = 2\n",
      "  Total train batch size (w. parallel, distributed & accumulation) = 2\n",
      "  Gradient Accumulation steps = 1\n",
      "  Total optimization steps = 1442\n",
      "  Number of trainable parameters = 66957317\n"
     ]
    },
    {
     "data": {
      "text/html": [
       "\n",
       "    <div>\n",
       "      \n",
       "      <progress value='1442' max='1442' style='width:300px; height:20px; vertical-align: middle;'></progress>\n",
       "      [1442/1442 19:24, Epoch 2/2]\n",
       "    </div>\n",
       "    <table border=\"1\" class=\"dataframe\">\n",
       "  <thead>\n",
       " <tr style=\"text-align: left;\">\n",
       "      <th>Step</th>\n",
       "      <th>Training Loss</th>\n",
       "    </tr>\n",
       "  </thead>\n",
       "  <tbody>\n",
       "    <tr>\n",
       "      <td>500</td>\n",
       "      <td>1.559600</td>\n",
       "    </tr>\n",
       "    <tr>\n",
       "      <td>1000</td>\n",
       "      <td>1.553200</td>\n",
       "    </tr>\n",
       "  </tbody>\n",
       "</table><p>"
      ],
      "text/plain": [
       "<IPython.core.display.HTML object>"
      ]
     },
     "metadata": {},
     "output_type": "display_data"
    },
    {
     "name": "stderr",
     "output_type": "stream",
     "text": [
      "Saving model checkpoint to ./results\\checkpoint-500\n",
      "Configuration saved in ./results\\checkpoint-500\\config.json\n",
      "Model weights saved in ./results\\checkpoint-500\\pytorch_model.bin\n",
      "Saving model checkpoint to ./results\\checkpoint-1000\n",
      "Configuration saved in ./results\\checkpoint-1000\\config.json\n",
      "Model weights saved in ./results\\checkpoint-1000\\pytorch_model.bin\n",
      "\n",
      "\n",
      "Training completed. Do not forget to share your model on huggingface.co/models =)\n",
      "\n",
      "\n"
     ]
    },
    {
     "data": {
      "text/plain": [
       "TrainOutput(global_step=1442, training_loss=1.5467350678040481, metrics={'train_runtime': 1169.9693, 'train_samples_per_second': 2.465, 'train_steps_per_second': 1.233, 'total_flos': 382056416931840.0, 'train_loss': 1.5467350678040481, 'epoch': 2.0})"
      ]
     },
     "execution_count": 41,
     "metadata": {},
     "output_type": "execute_result"
    }
   ],
   "source": [
    "trainer.train()"
   ]
  },
  {
   "cell_type": "code",
   "execution_count": 44,
   "id": "24bb6229-a7a0-4b76-8ee2-134cd3c0b9df",
   "metadata": {},
   "outputs": [
    {
     "name": "stderr",
     "output_type": "stream",
     "text": [
      "***** Running Evaluation *****\n",
      "  Num examples = 416\n",
      "  Batch size = 8\n"
     ]
    },
    {
     "data": {
      "text/html": [],
      "text/plain": [
       "<IPython.core.display.HTML object>"
      ]
     },
     "metadata": {},
     "output_type": "display_data"
    }
   ],
   "source": [
    "eval_results = trainer.evaluate()"
   ]
  },
  {
   "cell_type": "code",
   "execution_count": 45,
   "id": "cea133cb-4b12-4784-af4b-affeb2baf8c4",
   "metadata": {},
   "outputs": [
    {
     "name": "stdout",
     "output_type": "stream",
     "text": [
      "{'eval_loss': 1.521747350692749, 'eval_runtime': 43.6137, 'eval_samples_per_second': 9.538, 'eval_steps_per_second': 1.192, 'epoch': 2.0}\n"
     ]
    }
   ],
   "source": [
    "print(eval_results)"
   ]
  },
  {
   "cell_type": "code",
   "execution_count": 42,
   "id": "90d1e0af-4f00-4080-b58d-b62a702bad44",
   "metadata": {},
   "outputs": [
    {
     "name": "stderr",
     "output_type": "stream",
     "text": [
      "***** Running Prediction *****\n",
      "  Num examples = 416\n",
      "  Batch size = 8\n"
     ]
    },
    {
     "data": {
      "text/html": [],
      "text/plain": [
       "<IPython.core.display.HTML object>"
      ]
     },
     "metadata": {},
     "output_type": "display_data"
    }
   ],
   "source": [
    "#trainer.predict(list(df_test['text'])[0])\n",
    "pr = trainer.predict(test_dataset)"
   ]
  },
  {
   "cell_type": "code",
   "execution_count": 43,
   "id": "8efd3723-f0a6-4028-9940-dec55302a0bd",
   "metadata": {},
   "outputs": [
    {
     "data": {
      "text/plain": [
       "array([[-0.6309417 ,  0.57691073, -0.13738222, -0.6105328 ,  0.73272383],\n",
       "       [-0.63069755,  0.5760069 , -0.13639358, -0.61113644,  0.7338138 ],\n",
       "       [-0.6303787 ,  0.5749204 , -0.13546361, -0.6112658 ,  0.7355033 ],\n",
       "       ...,\n",
       "       [-0.6297016 ,  0.57485425, -0.13468409, -0.61129004,  0.7356983 ],\n",
       "       [-0.6291461 ,  0.57318604, -0.13318555, -0.6123838 ,  0.73824066],\n",
       "       [-0.63034356,  0.57462716, -0.1351173 , -0.6115158 ,  0.73573303]],\n",
       "      dtype=float32)"
      ]
     },
     "execution_count": 43,
     "metadata": {},
     "output_type": "execute_result"
    }
   ],
   "source": [
    "pr.predictions"
   ]
  },
  {
   "cell_type": "code",
   "execution_count": 45,
   "id": "abb3fe07-dfc3-4ae9-be62-9b63ba863758",
   "metadata": {
    "collapsed": true,
    "jupyter": {
     "outputs_hidden": true
    },
    "tags": []
   },
   "outputs": [
    {
     "data": {
      "text/plain": [
       "array([-0.06922215, -0.06840688, -0.06668437, -0.06652069, -0.06946957,\n",
       "       -0.06566215, -0.06273568, -0.10336125, -0.07080573, -0.06387347,\n",
       "       -0.06954002, -0.06978339, -0.06410539, -0.06112111, -0.06646353,\n",
       "       -0.0661661 , -0.06577158, -0.0825358 , -0.06071442, -0.06251895,\n",
       "       -0.09136981, -0.06461829, -0.06311309, -0.06624144, -0.06216049,\n",
       "       -0.06681269, -0.074471  , -0.07583839, -0.08203024, -0.06620204,\n",
       "       -0.06165284, -0.06491542, -0.06277019, -0.07224953, -0.08284831,\n",
       "       -0.12143427, -0.06661397, -0.06532407, -0.06609815, -0.06492382,\n",
       "       -0.06490511, -0.06446528, -0.06668109, -0.06384689, -0.06193751,\n",
       "       -0.08315426, -0.06495035, -0.09821063, -0.06226617, -0.06664962,\n",
       "       -0.06318235, -0.06484127, -0.06674337, -0.06410682, -0.06747407,\n",
       "       -0.08038813, -0.0631054 , -0.06622785, -0.08469391, -0.06486374,\n",
       "       -0.06681913, -0.12998307, -0.06728131, -0.06515747, -0.06154037,\n",
       "       -0.06802446, -0.06586742, -0.06398863, -0.14049858, -0.06637889,\n",
       "       -0.06721056, -0.06253833, -0.06472528, -0.08008039, -0.06727558,\n",
       "       -0.08429879, -0.06616557, -0.06511325, -0.06687599, -0.06328988,\n",
       "       -0.06196338, -0.06424218, -0.06659144, -0.06527776, -0.1021173 ,\n",
       "       -0.06254512, -0.06703055, -0.06185669, -0.06414562, -0.06834137,\n",
       "       -0.0619905 , -0.06921619, -0.06329137, -0.06589431, -0.06331849,\n",
       "       -0.065817  , -0.06315738, -0.09011674, -0.06603354, -0.06579846,\n",
       "       -0.06634027, -0.06334466, -0.06420422, -0.06413078, -0.07472152,\n",
       "       -0.06678301, -0.07225198, -0.08187604, -0.07281411, -0.0657022 ,\n",
       "       -0.07429689, -0.06765157, -0.08130878, -0.07074589, -0.07505965,\n",
       "       -0.06426138, -0.13931721, -0.07774049, -0.07035077, -0.06139904,\n",
       "       -0.06154901, -0.07834256, -0.09362644, -0.06194109, -0.0609476 ,\n",
       "       -0.06251127, -0.06139565, -0.06455076, -0.07556677, -0.07011062,\n",
       "       -0.06758237, -0.0672279 , -0.08538568, -0.09800673, -0.06478363,\n",
       "       -0.06192011, -0.06400979, -0.06331927, -0.06419939, -0.06458944,\n",
       "       -0.06510282, -0.07033092, -0.06056476, -0.07413679, -0.06454432,\n",
       "       -0.06656969, -0.10264575, -0.06700641, -0.07014841, -0.08691967,\n",
       "       -0.1029799 , -0.06462896, -0.07297367, -0.09442109, -0.06440079,\n",
       "       -0.06683105, -0.06228989, -0.06750625, -0.07827258, -0.07221735,\n",
       "       -0.10110915, -0.06444687, -0.06828803, -0.06473124, -0.08166194,\n",
       "       -0.06460857, -0.06407362, -0.06539112, -0.06967908, -0.06495064,\n",
       "       -0.06570762, -0.07079893, -0.08694392, -0.063636  , -0.06235355,\n",
       "       -0.10202578, -0.08018374, -0.06953508, -0.0740853 , -0.06490541,\n",
       "       -0.06646609, -0.06116456, -0.06439668, -0.07888746, -0.07903147,\n",
       "       -0.07534784, -0.06531978, -0.06488967, -0.08097517, -0.06443805,\n",
       "       -0.06335896, -0.06216168, -0.06575209, -0.06488019, -0.06677622,\n",
       "       -0.13866502, -0.06336194, -0.07614511, -0.06100863, -0.06205738,\n",
       "       -0.07777596, -0.08162224, -0.06559581, -0.07276309, -0.07009715,\n",
       "       -0.09408909, -0.06545734, -0.09246862, -0.06335562, -0.07064599,\n",
       "       -0.06381899, -0.06495076, -0.06293541, -0.08752   , -0.06362659,\n",
       "       -0.06437778, -0.07026249, -0.06669909, -0.06564289, -0.0653314 ,\n",
       "       -0.06404376, -0.0634194 , -0.09522653, -0.07459539, -0.06122768,\n",
       "       -0.06997705, -0.06637013, -0.06625563, -0.05993038, -0.06337875,\n",
       "       -0.06480718, -0.07440501, -0.06455779, -0.07408202, -0.06776142,\n",
       "       -0.06238121, -0.07694894, -0.07682204, -0.06250155, -0.06738061,\n",
       "       -0.08026451, -0.07979381, -0.07101011, -0.06320333, -0.07393336,\n",
       "       -0.0840472 , -0.06641418, -0.06699359, -0.06694973, -0.07506835,\n",
       "       -0.06351298, -0.06538397, -0.0599345 , -0.06699741, -0.06453055,\n",
       "       -0.06509709, -0.06737322, -0.06358254, -0.06427175, -0.07649767,\n",
       "       -0.0627082 , -0.0631333 , -0.06339294, -0.06499451, -0.06244129,\n",
       "       -0.06521636, -0.07727665, -0.06379783, -0.06286561, -0.06758785,\n",
       "       -0.07730818, -0.07658339, -0.13737422, -0.0662387 , -0.06530625,\n",
       "       -0.06551564, -0.06171662, -0.06521446, -0.0636726 , -0.07083768,\n",
       "       -0.06682944, -0.06571496, -0.07873833, -0.06700414, -0.06449604,\n",
       "       -0.11084691, -0.07766682, -0.06392395, -0.06603515, -0.06126183,\n",
       "       -0.06175125, -0.06795186, -0.09241092, -0.09486777, -0.06643474,\n",
       "       -0.10203972, -0.07673949, -0.06962687, -0.06530154, -0.06797874,\n",
       "       -0.07973653, -0.09445864, -0.06269068, -0.06868607, -0.06375623,\n",
       "       -0.06693685, -0.07381326, -0.07975209, -0.06634843, -0.0648281 ,\n",
       "       -0.06219524, -0.10135192, -0.0643056 , -0.08440679, -0.06208438,\n",
       "       -0.06198812, -0.06514961, -0.06236732, -0.07003069, -0.06159544,\n",
       "       -0.06695837, -0.06591636, -0.06137252, -0.07518512, -0.06624228,\n",
       "       -0.06369293, -0.06851578, -0.06074673, -0.12227577, -0.06265742,\n",
       "       -0.06318927, -0.06520945, -0.07954061, -0.06630051, -0.07821918,\n",
       "       -0.06841147, -0.0653494 , -0.06384742, -0.06177419, -0.07232833,\n",
       "       -0.07680959, -0.06814724, -0.06610835, -0.07488203, -0.07881689,\n",
       "       -0.06411248, -0.09134704, -0.06529248, -0.0652867 , -0.07883734,\n",
       "       -0.06482095, -0.08030713, -0.06786871, -0.06185603, -0.06424314,\n",
       "       -0.06474108, -0.09782034, -0.06033295, -0.06633109, -0.07005888,\n",
       "       -0.06574112, -0.07363421, -0.06267095, -0.06800628, -0.06989121,\n",
       "       -0.10364676, -0.08154762, -0.08922029, -0.09233481, -0.06621391,\n",
       "       -0.06022596, -0.06435972, -0.06664389, -0.06521642, -0.07109135,\n",
       "       -0.07075763, -0.06731319, -0.17386824, -0.07029265, -0.07648474,\n",
       "       -0.06433862, -0.06974894, -0.06526691, -0.06411791, -0.06856865,\n",
       "       -0.06416416, -0.06650674, -0.06126839, -0.06381708, -0.06405056,\n",
       "       -0.06414562, -0.08305544, -0.06755841, -0.06528217, -0.06351125,\n",
       "       -0.07097316, -0.06498396, -0.06367654, -0.06501538, -0.06523317,\n",
       "       -0.06466317, -0.06239599, -0.0721885 , -0.01824722, -0.07195878,\n",
       "       -0.06135017, -0.06432408, -0.06693482, -0.06617749, -0.07169998,\n",
       "       -0.07127017, -0.06345659, -0.07324988, -0.0651232 , -0.06328875,\n",
       "       -0.06661648], dtype=float32)"
      ]
     },
     "execution_count": 45,
     "metadata": {},
     "output_type": "execute_result"
    }
   ],
   "source": [
    "np.sum(pr.predictions, axis=1)"
   ]
  },
  {
   "cell_type": "code",
   "execution_count": 44,
   "id": "09fd9838-218d-4fcc-ae68-39f87bf1aa4b",
   "metadata": {
    "collapsed": true,
    "jupyter": {
     "outputs_hidden": true
    },
    "tags": []
   },
   "outputs": [
    {
     "data": {
      "text/plain": [
       "array([4, 4, 4, 4, 4, 4, 4, 4, 4, 4, 4, 4, 4, 4, 4, 4, 4, 4, 4, 4, 4, 4,\n",
       "       4, 4, 4, 4, 4, 4, 4, 4, 4, 4, 4, 4, 4, 4, 4, 4, 4, 4, 4, 4, 4, 4,\n",
       "       4, 4, 4, 4, 4, 4, 4, 4, 4, 4, 4, 4, 4, 4, 4, 4, 4, 4, 4, 4, 4, 4,\n",
       "       4, 4, 4, 4, 4, 4, 4, 4, 4, 4, 4, 4, 4, 4, 4, 4, 4, 4, 4, 4, 4, 4,\n",
       "       4, 4, 4, 4, 4, 4, 4, 4, 4, 4, 4, 4, 4, 4, 4, 4, 4, 4, 4, 4, 4, 4,\n",
       "       4, 4, 4, 4, 4, 4, 4, 4, 4, 4, 4, 4, 4, 4, 4, 4, 4, 4, 4, 4, 4, 4,\n",
       "       4, 4, 4, 4, 4, 4, 4, 4, 4, 4, 4, 4, 4, 4, 4, 4, 4, 4, 4, 4, 4, 4,\n",
       "       4, 4, 4, 4, 4, 4, 4, 4, 4, 4, 4, 4, 4, 4, 4, 4, 4, 4, 4, 4, 4, 1,\n",
       "       4, 4, 4, 4, 4, 4, 4, 4, 4, 4, 4, 4, 4, 4, 4, 4, 4, 4, 4, 4, 4, 4,\n",
       "       4, 4, 4, 4, 4, 4, 4, 4, 4, 4, 4, 4, 4, 4, 4, 4, 4, 4, 4, 4, 4, 4,\n",
       "       4, 4, 4, 4, 4, 4, 4, 4, 4, 4, 4, 4, 4, 4, 4, 4, 4, 4, 4, 4, 4, 4,\n",
       "       4, 4, 4, 4, 4, 4, 4, 4, 4, 4, 4, 4, 4, 4, 4, 4, 4, 4, 4, 4, 4, 4,\n",
       "       4, 4, 4, 4, 4, 4, 4, 4, 4, 4, 4, 4, 4, 4, 4, 4, 4, 4, 4, 4, 4, 1,\n",
       "       4, 4, 4, 4, 4, 4, 4, 4, 4, 1, 4, 4, 4, 4, 4, 4, 4, 4, 4, 4, 4, 4,\n",
       "       4, 4, 4, 4, 4, 4, 4, 4, 4, 4, 4, 4, 4, 4, 4, 4, 4, 4, 4, 4, 4, 4,\n",
       "       4, 4, 4, 4, 4, 4, 4, 4, 4, 4, 4, 4, 4, 4, 4, 4, 4, 4, 4, 4, 4, 4,\n",
       "       4, 4, 4, 4, 4, 4, 4, 4, 4, 4, 4, 4, 4, 4, 4, 1, 4, 4, 4, 4, 4, 4,\n",
       "       4, 4, 4, 1, 4, 4, 4, 4, 4, 4, 4, 4, 4, 4, 4, 4, 4, 4, 4, 4, 4, 4,\n",
       "       4, 4, 4, 4, 4, 4, 4, 1, 4, 4, 4, 4, 4, 4, 4, 4, 4, 4, 4, 4],\n",
       "      dtype=int64)"
      ]
     },
     "execution_count": 44,
     "metadata": {},
     "output_type": "execute_result"
    }
   ],
   "source": [
    "np.argmax(pr.predictions, axis=1)"
   ]
  },
  {
   "cell_type": "code",
   "execution_count": 40,
   "id": "858a2fd8-0b17-43bf-9378-60c6d2d5203b",
   "metadata": {},
   "outputs": [],
   "source": [
    "torch.cuda.empty_cache()"
   ]
  },
  {
   "cell_type": "markdown",
   "id": "23fce0b0-dd7a-44c4-a841-e23d5be77c0a",
   "metadata": {
    "tags": []
   },
   "source": [
    "## fine-tune with torch "
   ]
  },
  {
   "cell_type": "code",
   "execution_count": 17,
   "id": "d3c61b1b-6407-4df5-a6b4-a12dde8305f2",
   "metadata": {},
   "outputs": [],
   "source": [
    "my_l = ['bipolar affective disorder', 'depression', 'eating disorder', 'obsessive-compulsive disorder', 'schizophrenia']"
   ]
  },
  {
   "cell_type": "code",
   "execution_count": 18,
   "id": "9034033f-545c-4c08-aca6-4ead7d609f17",
   "metadata": {},
   "outputs": [],
   "source": [
    "#df_bar df_depr df_okr df_rpp df_shiz"
   ]
  },
  {
   "cell_type": "code",
   "execution_count": 19,
   "id": "aa9a2666-d959-41df-8080-7ed63bbc44a3",
   "metadata": {},
   "outputs": [],
   "source": [
    "df_BAR, df_DEPR, df_OKR, df_RPP, df_SHIZ = transform_datasets((df_bar, df_depr, df_okr, df_rpp, df_shiz))"
   ]
  },
  {
   "cell_type": "code",
   "execution_count": 20,
   "id": "157127d8-97b7-422b-aab3-1a323f9cab94",
   "metadata": {},
   "outputs": [],
   "source": [
    "train_size_bar = int(df_BAR.shape[0] * 0.8)\n",
    "train_size_depr = int(df_DEPR.shape[0] * 0.8)\n",
    "train_size_okr = int(df_OKR.shape[0] * 0.8)\n",
    "train_size_rpp = int(df_RPP.shape[0] * 0.8)\n",
    "train_size_shiz = int(df_SHIZ.shape[0] * 0.8)\n",
    "\n",
    "val_size_bar = int(df_BAR.shape[0] * 0.7)\n",
    "val_size_depr = int(df_DEPR.shape[0] * 0.7)\n",
    "val_size_okr = int(df_OKR.shape[0] * 0.7)\n",
    "val_size_rpp = int(df_RPP.shape[0] * 0.7)\n",
    "val_size_shiz = int(df_SHIZ.shape[0] * 0.7)\n",
    "\n",
    "df_bar = df_BAR.sample(frac=1).reset_index(drop=True)\n",
    "df_depr = df_DEPR.sample(frac=1).reset_index(drop=True)\n",
    "df_okr = df_OKR.sample(frac=1).reset_index(drop=True)\n",
    "df_rpp = df_RPP.sample(frac=1).reset_index(drop=True)\n",
    "df_shiz = df_SHIZ.sample(frac=1).reset_index(drop=True)\n",
    "\n",
    "df_bar_test = df_bar.iloc[train_size_bar:]\n",
    "df_depr_test = df_depr.iloc[train_size_depr:]\n",
    "df_okr_test = df_okr.iloc[train_size_okr:]\n",
    "df_rpp_test = df_rpp.iloc[train_size_rpp:]\n",
    "df_shiz_test = df_shiz.iloc[train_size_shiz:]\n",
    "\n",
    "df_bar_val = df_bar.iloc[val_size_bar:train_size_bar]\n",
    "df_depr_val = df_depr.iloc[val_size_depr:train_size_depr]\n",
    "df_okr_val = df_okr.iloc[val_size_okr:train_size_okr]\n",
    "df_rpp_val = df_rpp.iloc[val_size_rpp:train_size_rpp]\n",
    "df_shiz_val = df_shiz.iloc[val_size_shiz:train_size_shiz]\n",
    "\n",
    "df_bar_train = df_bar.iloc[:val_size_bar]\n",
    "df_depr_train = df_depr.iloc[:val_size_depr]\n",
    "df_okr_train = df_okr.iloc[:val_size_okr]\n",
    "df_rpp_train = df_rpp.iloc[:val_size_rpp]\n",
    "df_shiz_train = df_shiz.iloc[:val_size_shiz]"
   ]
  },
  {
   "cell_type": "code",
   "execution_count": 21,
   "id": "e6f687ac-ea2b-4b8a-aa76-39e4bd608e2b",
   "metadata": {},
   "outputs": [],
   "source": [
    "df_train = pd.concat([df_bar_train, df_depr_train, df_okr_train, df_rpp_train, df_shiz_train]).sample(frac=1).reset_index(drop=True)"
   ]
  },
  {
   "cell_type": "code",
   "execution_count": 22,
   "id": "e321a9a3-cc65-48d0-b064-2d75038e86b9",
   "metadata": {},
   "outputs": [
    {
     "data": {
      "text/plain": [
       "(2887, 3)"
      ]
     },
     "execution_count": 22,
     "metadata": {},
     "output_type": "execute_result"
    }
   ],
   "source": [
    "df_train.shape"
   ]
  },
  {
   "cell_type": "code",
   "execution_count": 23,
   "id": "3a4b1beb-6814-4e24-b691-d505af25e470",
   "metadata": {},
   "outputs": [],
   "source": [
    "df_test = pd.concat([df_bar_test, df_depr_test, df_okr_test, df_rpp_test, df_shiz_test]).sample(frac=1).reset_index(drop=True)\n",
    "df_val= pd.concat([df_bar_val, df_depr_val, df_okr_val, df_rpp_val, df_shiz_val]).sample(frac=1).reset_index(drop=True)"
   ]
  },
  {
   "cell_type": "code",
   "execution_count": null,
   "id": "390831e9-18f5-4c77-90ea-0bf7af7612b5",
   "metadata": {},
   "outputs": [],
   "source": []
  },
  {
   "cell_type": "code",
   "execution_count": 24,
   "id": "5a34a43b-d3f2-42fd-9bb0-5e4ef17d9924",
   "metadata": {},
   "outputs": [],
   "source": [
    "from sklearn.metrics import classification_report\n",
    "from transformers import pipeline, AutoModelForSequenceClassification, AutoTokenizer, TrainingArguments, Trainer, AdamW\n",
    "from torch.utils.data import Dataset, DataLoader\n",
    "import torch\n",
    "from torch import nn"
   ]
  },
  {
   "cell_type": "code",
   "execution_count": 25,
   "id": "ba08241f-fb59-4020-acb7-8ef01b7140aa",
   "metadata": {},
   "outputs": [
    {
     "name": "stderr",
     "output_type": "stream",
     "text": [
      "The `xla_device` argument has been deprecated in v4.4.0 of Transformers. It is ignored and you can safely remove it from your `config.json` file.\n",
      "The `xla_device` argument has been deprecated in v4.4.0 of Transformers. It is ignored and you can safely remove it from your `config.json` file.\n",
      "The `xla_device` argument has been deprecated in v4.4.0 of Transformers. It is ignored and you can safely remove it from your `config.json` file.\n",
      "The `xla_device` argument has been deprecated in v4.4.0 of Transformers. It is ignored and you can safely remove it from your `config.json` file.\n"
     ]
    }
   ],
   "source": [
    "model_name = 'typeform/distilbert-base-uncased-mnli'\n",
    "model = AutoModelForSequenceClassification.from_pretrained(model_name)#, num_labels=5,ignore_mismatched_sizes=True)\n",
    "tokenizer = AutoTokenizer.from_pretrained(model_name)"
   ]
  },
  {
   "cell_type": "code",
   "execution_count": 26,
   "id": "9d6e844b-d790-4335-b55d-ef42ac893175",
   "metadata": {},
   "outputs": [
    {
     "data": {
      "text/plain": [
       "{0: 'ENTAILMENT', 1: 'NEUTRAL', 2: 'CONTRADICTION'}"
      ]
     },
     "execution_count": 26,
     "metadata": {},
     "output_type": "execute_result"
    }
   ],
   "source": [
    "model.config.id2label"
   ]
  },
  {
   "cell_type": "code",
   "execution_count": 27,
   "id": "23e8fb62-0127-49f5-84b4-b4c6ca4e20fc",
   "metadata": {},
   "outputs": [],
   "source": [
    "class MyDataset(Dataset):\n",
    "    def __init__(self, dataframe, tokenizer, max_length):\n",
    "        self.data = dataframe\n",
    "        self.tokenizer = tokenizer\n",
    "        self.max_length = max_length\n",
    "\n",
    "    def __len__(self):\n",
    "        return len(self.data)\n",
    "\n",
    "    def __getitem__(self, index):\n",
    "        text1 = self.data['text1'][index]\n",
    "        text2 = self.data['text2'][index]\n",
    "        label = self.data['label'][index]\n",
    "\n",
    "        inputs = self.tokenizer.encode_plus(\n",
    "            text1,\n",
    "            text2,\n",
    "            add_special_tokens=True,\n",
    "            max_length=self.max_length,\n",
    "            padding='max_length',\n",
    "            truncation=True,\n",
    "            return_tensors='pt'\n",
    "        )\n",
    "\n",
    "        return {\n",
    "            'input_ids': inputs['input_ids'].squeeze(),\n",
    "            'attention_mask': inputs['attention_mask'].squeeze(),\n",
    "            'label': torch.tensor(label)\n",
    "        }"
   ]
  },
  {
   "cell_type": "code",
   "execution_count": 28,
   "id": "9b5e79d5-ef46-45d8-a3af-0d393f9057e8",
   "metadata": {},
   "outputs": [
    {
     "data": {
      "text/plain": [
       "device(type='cuda')"
      ]
     },
     "execution_count": 28,
     "metadata": {},
     "output_type": "execute_result"
    }
   ],
   "source": [
    "device = torch.device('cuda' if torch.cuda.is_available() else 'cpu')\n",
    "device"
   ]
  },
  {
   "cell_type": "code",
   "execution_count": 29,
   "id": "9d6967d1-b265-47ed-af3e-7b6aa1fc1889",
   "metadata": {},
   "outputs": [],
   "source": [
    "batch_size = 2\n",
    "learning_rate = 2e-6\n",
    "num_epochs = 2"
   ]
  },
  {
   "cell_type": "code",
   "execution_count": 30,
   "id": "136b48c7-c203-4d28-9522-b3cdd9266218",
   "metadata": {
    "tags": []
   },
   "outputs": [],
   "source": [
    "model = model.to(device)"
   ]
  },
  {
   "cell_type": "code",
   "execution_count": 31,
   "id": "a01cc8dd-aa66-4ac8-b331-1180ce79d49c",
   "metadata": {},
   "outputs": [],
   "source": [
    "train_dataset = MyDataset(df_train, tokenizer, max_length=512)\n",
    "train_loader = DataLoader(train_dataset, batch_size=batch_size, shuffle=True)"
   ]
  },
  {
   "cell_type": "code",
   "execution_count": 32,
   "id": "742b8723-73e9-4bd7-8a0e-f0f365325d01",
   "metadata": {},
   "outputs": [],
   "source": [
    "eval_dataset = MyDataset(df_val, tokenizer, max_length=512)\n",
    "eval_loader = DataLoader(eval_dataset, batch_size=batch_size)"
   ]
  },
  {
   "cell_type": "code",
   "execution_count": 33,
   "id": "050981d0-6fe1-4e39-97a2-ba20b6caa425",
   "metadata": {},
   "outputs": [
    {
     "name": "stderr",
     "output_type": "stream",
     "text": [
      "D:\\Users\\Nurlan\\miniconda3\\lib\\site-packages\\transformers\\optimization.py:306: FutureWarning: This implementation of AdamW is deprecated and will be removed in a future version. Use the PyTorch implementation torch.optim.AdamW instead, or set `no_deprecation_warning=True` to disable this warning\n",
      "  warnings.warn(\n"
     ]
    }
   ],
   "source": [
    "optimizer = AdamW(model.parameters(), lr=learning_rate)\n",
    "loss_fn = nn.CrossEntropyLoss()"
   ]
  },
  {
   "cell_type": "code",
   "execution_count": 34,
   "id": "6f2bd358-129c-4642-af7d-7d5fa47a2048",
   "metadata": {},
   "outputs": [
    {
     "name": "stderr",
     "output_type": "stream",
     "text": [
      "100%|██████████████████████████████████████████████████████████████████████████████| 1444/1444 [18:52<00:00,  1.27it/s]\n"
     ]
    },
    {
     "name": "stdout",
     "output_type": "stream",
     "text": [
      "Epoch 1/2 - Loss: 1.1246689655941393\n",
      "Validation Accuracy: 0.6344\n"
     ]
    },
    {
     "name": "stderr",
     "output_type": "stream",
     "text": [
      "100%|██████████████████████████████████████████████████████████████████████████████| 1444/1444 [18:36<00:00,  1.29it/s]\n"
     ]
    },
    {
     "name": "stdout",
     "output_type": "stream",
     "text": [
      "Epoch 2/2 - Loss: 0.5913513645986379\n",
      "Validation Accuracy: 0.7845\n"
     ]
    }
   ],
   "source": [
    "for epoch in range(num_epochs):\n",
    "    model.train()\n",
    "    total_loss = 0\n",
    "    \n",
    "    #losses_tr = []\n",
    "    for batch in tqdm(train_loader):\n",
    "        # input_ids = batch['input_ids'].to(device)\n",
    "        # attention_mask = batch['attention_mask'].to(device)\n",
    "        # labels = batch['label'].to(device)\n",
    "        inputs = {\n",
    "            'input_ids': batch['input_ids'].to(device),\n",
    "            'attention_mask': batch['attention_mask'].to(device),\n",
    "            'labels': batch['label'].to(device)\n",
    "        }\n",
    "\n",
    "        optimizer.zero_grad()\n",
    "\n",
    "        #outputs = model(input_ids, attention_mask=attention_mask, labels=labels)\n",
    "        outputs = model(**inputs)\n",
    "        loss = outputs.loss\n",
    "        #loss = loss_fn(outputs,labels)\n",
    "        \n",
    "        total_loss += loss.item()\n",
    "        \n",
    "        loss.backward()\n",
    "        optimizer.step()\n",
    "        \n",
    "        #losses_tr.append(loss.item()) \n",
    "\n",
    "    avg_loss = total_loss / len(train_loader)\n",
    "    print(f'Epoch {epoch + 1}/{num_epochs} - Loss: {avg_loss}')\n",
    "    \n",
    "    \n",
    "    # Evaluation\n",
    "    model.eval()\n",
    "    total_correct = 0\n",
    "    total_samples = 0\n",
    "\n",
    "    with torch.no_grad():\n",
    "        for batch in eval_loader:\n",
    "            inputs = {\n",
    "                'input_ids': batch['input_ids'].to(device),\n",
    "                'attention_mask': batch['attention_mask'].to(device),\n",
    "                'labels': batch['label'].to(device)\n",
    "            }\n",
    "\n",
    "            outputs = model(**inputs)\n",
    "            logits = outputs.logits\n",
    "            predictions = torch.argmax(logits, dim=1)\n",
    "            labels = inputs['labels']\n",
    "            correct = torch.sum(predictions == labels)\n",
    "            total_correct += correct.item()\n",
    "            total_samples += labels.size(0)\n",
    "\n",
    "    accuracy = total_correct / total_samples\n",
    "    print(f\"Validation Accuracy: {accuracy:.4f}\")\n"
   ]
  },
  {
   "cell_type": "code",
   "execution_count": null,
   "id": "061babd1-645b-472d-a0a1-259f0c2c9a7e",
   "metadata": {},
   "outputs": [],
   "source": []
  },
  {
   "cell_type": "code",
   "execution_count": 35,
   "id": "b7cbd0be-0ba0-4d48-98d4-b84d054ccdb8",
   "metadata": {},
   "outputs": [],
   "source": [
    "test_dataset = MyDataset(df_test, tokenizer, max_length=512) \n",
    "test_loader = DataLoader(test_dataset, batch_size=batch_size, shuffle=False)"
   ]
  },
  {
   "cell_type": "code",
   "execution_count": 36,
   "id": "4c89e3ee-197a-4ceb-a3b2-bcaa032b8657",
   "metadata": {},
   "outputs": [
    {
     "name": "stderr",
     "output_type": "stream",
     "text": [
      "100%|████████████████████████████████████████████████████████████████████████████████| 414/414 [01:40<00:00,  4.13it/s]\n"
     ]
    }
   ],
   "source": [
    "model.eval()\n",
    "preds = []\n",
    "\n",
    "with torch.no_grad():\n",
    "    for batch in tqdm(test_loader):\n",
    "        inputs = {\n",
    "                'input_ids': batch['input_ids'].to(device),\n",
    "                'attention_mask': batch['attention_mask'].to(device),\n",
    "            }\n",
    "\n",
    "        outputs = model(**inputs)\n",
    "        logits = outputs.logits\n",
    "        predictions = torch.argmax(logits, dim=1)\n",
    "        preds.extend(predictions.tolist())\n",
    "#         input_ids = batch['input_ids'].to(device)\n",
    "#         attention_mask = batch['attention_mask'].to(device)\n",
    "\n",
    "#         logits = model(input_ids, attention_mask=attention_mask)[0]\n",
    "#         predicted_labels = torch.argmax(logits, dim=1)\n",
    "\n",
    "#         preds.extend(predicted_labels.tolist())"
   ]
  },
  {
   "cell_type": "code",
   "execution_count": 38,
   "id": "f3d28d7a-213c-4c44-b93a-6fb3481abbcc",
   "metadata": {},
   "outputs": [
    {
     "data": {
      "text/plain": [
       "[0, 2, 2, 0]"
      ]
     },
     "execution_count": 38,
     "metadata": {},
     "output_type": "execute_result"
    }
   ],
   "source": [
    "preds[:4]"
   ]
  },
  {
   "cell_type": "markdown",
   "id": "ad1d11b5-ea0e-4ffd-846f-9a00261ab3c7",
   "metadata": {
    "tags": []
   },
   "source": [
    "### 5 ep, lr=2e-5"
   ]
  },
  {
   "cell_type": "code",
   "execution_count": 39,
   "id": "492859f6-b13e-4c24-81c8-3d93c6195cf1",
   "metadata": {},
   "outputs": [
    {
     "name": "stdout",
     "output_type": "stream",
     "text": [
      "              precision    recall  f1-score   support\n",
      "\n",
      "           0       0.88      0.89      0.88       410\n",
      "           2       0.89      0.88      0.89       418\n",
      "\n",
      "    accuracy                           0.89       828\n",
      "   macro avg       0.89      0.89      0.89       828\n",
      "weighted avg       0.89      0.89      0.89       828\n",
      "\n"
     ]
    }
   ],
   "source": [
    "print(classification_report(list(df_test['label']), preds, zero_division=0))"
   ]
  },
  {
   "cell_type": "code",
   "execution_count": 40,
   "id": "87e122ab-247e-4b71-9c42-b760c3956876",
   "metadata": {},
   "outputs": [],
   "source": [
    "classifier = pipeline(\"zero-shot-classification\", model=model, tokenizer=tokenizer, device=0 if torch.cuda.is_available() else -1)"
   ]
  },
  {
   "cell_type": "code",
   "execution_count": 41,
   "id": "8325a445-b303-465c-8852-f32c51ba48d0",
   "metadata": {},
   "outputs": [
    {
     "name": "stderr",
     "output_type": "stream",
     "text": [
      "  1%|▉                                                                                 | 9/828 [00:02<03:47,  3.59it/s]D:\\Users\\Nurlan\\miniconda3\\lib\\site-packages\\transformers\\pipelines\\base.py:1043: UserWarning: You seem to be using the pipelines sequentially on GPU. In order to maximize efficiency please use a dataset\n",
      "  warnings.warn(\n",
      "100%|████████████████████████████████████████████████████████████████████████████████| 828/828 [03:12<00:00,  4.30it/s]\n"
     ]
    }
   ],
   "source": [
    "preds_ = []\n",
    "with torch.no_grad():\n",
    "    for elem in tqdm(list(df_test['text1'])):\n",
    "        prediction = classifier(elem, my_l)\n",
    "        q = prediction['labels'][np.argmax(prediction['scores'])]\n",
    "        preds_.append(q)"
   ]
  },
  {
   "cell_type": "code",
   "execution_count": 42,
   "id": "43fef604-e80e-487a-a686-bf0087d90ad3",
   "metadata": {},
   "outputs": [
    {
     "name": "stdout",
     "output_type": "stream",
     "text": [
      "                               precision    recall  f1-score   support\n",
      "\n",
      "   bipolar affective disorder       0.40      0.45      0.42        92\n",
      "                   depression       0.65      0.45      0.53       249\n",
      "              eating disorder       0.44      0.52      0.48       147\n",
      "obsessive-compulsive disorder       0.26      0.51      0.34        95\n",
      "                schizophrenia       0.61      0.47      0.53       245\n",
      "\n",
      "                     accuracy                           0.47       828\n",
      "                    macro avg       0.47      0.48      0.46       828\n",
      "                 weighted avg       0.53      0.47      0.49       828\n",
      "\n"
     ]
    }
   ],
   "source": [
    "print(classification_report(list(df_test['text2']), preds_, zero_division=0))"
   ]
  },
  {
   "cell_type": "code",
   "execution_count": 43,
   "id": "488de503-5a87-4b4c-97e2-2f39bdd46dde",
   "metadata": {},
   "outputs": [
    {
     "name": "stderr",
     "output_type": "stream",
     "text": [
      "  0%|                                                                                          | 0/828 [00:00<?, ?it/s]D:\\Users\\Nurlan\\miniconda3\\lib\\site-packages\\transformers\\pipelines\\base.py:1043: UserWarning: You seem to be using the pipelines sequentially on GPU. In order to maximize efficiency please use a dataset\n",
      "  warnings.warn(\n",
      "100%|████████████████████████████████████████████████████████████████████████████████| 828/828 [03:16<00:00,  4.22it/s]\n"
     ]
    }
   ],
   "source": [
    "preds_ = []\n",
    "with torch.no_grad():\n",
    "    for idx, row in tqdm(df_test.iterrows(), total=len(df_test)):\n",
    "        premise = row['text1']\n",
    "        hypothesis = row['text2']\n",
    "        \n",
    "        # Concatenate premise and hypothesis with separator\n",
    "        text = f\"{premise} [SEP] {hypothesis}\"\n",
    "        \n",
    "        # Perform zero-shot classification\n",
    "        prediction = classifier(text, my_l)\n",
    "        \n",
    "        # Retrieve the label with the highest score\n",
    "        predicted_label = prediction['labels'][np.argmax(prediction['scores'])]\n",
    "        preds_.append(predicted_label)"
   ]
  },
  {
   "cell_type": "code",
   "execution_count": 44,
   "id": "59fc3230-3bf8-4e21-905b-e4f7321c9ac4",
   "metadata": {},
   "outputs": [
    {
     "name": "stdout",
     "output_type": "stream",
     "text": [
      "                               precision    recall  f1-score   support\n",
      "\n",
      "   bipolar affective disorder       0.72      0.74      0.73        92\n",
      "                   depression       0.91      0.49      0.64       249\n",
      "              eating disorder       0.56      0.75      0.64       147\n",
      "obsessive-compulsive disorder       0.42      0.60      0.49        95\n",
      "                schizophrenia       0.74      0.80      0.77       245\n",
      "\n",
      "                     accuracy                           0.67       828\n",
      "                    macro avg       0.67      0.68      0.65       828\n",
      "                 weighted avg       0.72      0.67      0.67       828\n",
      "\n"
     ]
    }
   ],
   "source": [
    "print(classification_report(list(df_test['text2']), preds_, zero_division=0))"
   ]
  },
  {
   "cell_type": "markdown",
   "id": "f8ffd34e-9fe5-490a-be3b-6eafd33346d8",
   "metadata": {},
   "source": [
    "### 2 ep, lr=2e-5"
   ]
  },
  {
   "cell_type": "code",
   "execution_count": 39,
   "id": "7163219d-5df4-410b-b5f5-76f8b05eb49e",
   "metadata": {},
   "outputs": [
    {
     "name": "stdout",
     "output_type": "stream",
     "text": [
      "              precision    recall  f1-score   support\n",
      "\n",
      "           0       0.81      0.90      0.86       419\n",
      "           2       0.89      0.79      0.84       409\n",
      "\n",
      "    accuracy                           0.85       828\n",
      "   macro avg       0.85      0.85      0.85       828\n",
      "weighted avg       0.85      0.85      0.85       828\n",
      "\n"
     ]
    }
   ],
   "source": [
    "print(classification_report(list(df_test['label']), preds, zero_division=0))"
   ]
  },
  {
   "cell_type": "code",
   "execution_count": 40,
   "id": "d8e97db0-323f-4ef5-8138-45cdd1e45760",
   "metadata": {},
   "outputs": [],
   "source": [
    "classifier = pipeline(\"zero-shot-classification\", model=model, tokenizer=tokenizer, device=0 if torch.cuda.is_available() else -1)"
   ]
  },
  {
   "cell_type": "code",
   "execution_count": 41,
   "id": "00769b31-b2f4-4445-92f2-bf4fd51e68b9",
   "metadata": {
    "tags": []
   },
   "outputs": [
    {
     "name": "stderr",
     "output_type": "stream",
     "text": [
      "  1%|▉                                                                                | 10/828 [00:03<04:58,  2.74it/s]D:\\Users\\Nurlan\\miniconda3\\lib\\site-packages\\transformers\\pipelines\\base.py:1043: UserWarning: You seem to be using the pipelines sequentially on GPU. In order to maximize efficiency please use a dataset\n",
      "  warnings.warn(\n",
      "100%|████████████████████████████████████████████████████████████████████████████████| 828/828 [03:28<00:00,  3.97it/s]\n"
     ]
    }
   ],
   "source": [
    "preds_ = []\n",
    "with torch.no_grad():\n",
    "    for idx, row in tqdm(df_test.iterrows(), total=len(df_test)):\n",
    "        premise = row['text1']\n",
    "        hypothesis = row['text2']\n",
    "        \n",
    "        # Concatenate premise and hypothesis with separator\n",
    "        text = f\"{premise} [SEP] {hypothesis}\"\n",
    "        \n",
    "        # Perform zero-shot classification\n",
    "        prediction = classifier(text, my_l)\n",
    "        \n",
    "        # Retrieve the label with the highest score\n",
    "        predicted_label = prediction['labels'][np.argmax(prediction['scores'])]\n",
    "        preds_.append(predicted_label)"
   ]
  },
  {
   "cell_type": "code",
   "execution_count": 42,
   "id": "39c1081d-dfaa-4312-b6f6-71738fc542f6",
   "metadata": {},
   "outputs": [
    {
     "name": "stdout",
     "output_type": "stream",
     "text": [
      "                               precision    recall  f1-score   support\n",
      "\n",
      "   bipolar affective disorder       0.82      0.91      0.87        92\n",
      "                   depression       0.96      0.80      0.88       249\n",
      "              eating disorder       0.82      0.81      0.82       147\n",
      "obsessive-compulsive disorder       0.55      0.68      0.61        95\n",
      "                schizophrenia       0.84      0.87      0.85       245\n",
      "\n",
      "                     accuracy                           0.82       828\n",
      "                    macro avg       0.80      0.82      0.80       828\n",
      "                 weighted avg       0.84      0.82      0.83       828\n",
      "\n"
     ]
    }
   ],
   "source": [
    "print(classification_report(list(df_test['text2']), preds_, zero_division=0))"
   ]
  },
  {
   "cell_type": "markdown",
   "id": "1586ce6c-161c-42be-8e55-2edf918ade60",
   "metadata": {},
   "source": [
    "### 2 ep, lr=2e-6"
   ]
  },
  {
   "cell_type": "code",
   "execution_count": 37,
   "id": "08e52b02-234a-4d36-903b-88835249cbfd",
   "metadata": {},
   "outputs": [
    {
     "name": "stdout",
     "output_type": "stream",
     "text": [
      "              precision    recall  f1-score   support\n",
      "\n",
      "           0       0.78      0.79      0.78       423\n",
      "           2       0.77      0.76      0.77       405\n",
      "\n",
      "    accuracy                           0.78       828\n",
      "   macro avg       0.78      0.78      0.78       828\n",
      "weighted avg       0.78      0.78      0.78       828\n",
      "\n"
     ]
    }
   ],
   "source": [
    "print(classification_report(list(df_test['label']), preds, zero_division=0))"
   ]
  },
  {
   "cell_type": "code",
   "execution_count": 38,
   "id": "106c8e5e-afc8-4f7b-8098-7d752365549a",
   "metadata": {},
   "outputs": [],
   "source": [
    "classifier = pipeline(\"zero-shot-classification\", model=model, tokenizer=tokenizer, device=0 if torch.cuda.is_available() else -1)"
   ]
  },
  {
   "cell_type": "code",
   "execution_count": 39,
   "id": "0573d533-8ff1-44a3-b364-3c7361c6d743",
   "metadata": {},
   "outputs": [
    {
     "name": "stderr",
     "output_type": "stream",
     "text": [
      "  1%|▉                                                                                | 10/828 [00:03<04:32,  3.00it/s]D:\\Users\\Nurlan\\miniconda3\\lib\\site-packages\\transformers\\pipelines\\base.py:1043: UserWarning: You seem to be using the pipelines sequentially on GPU. In order to maximize efficiency please use a dataset\n",
      "  warnings.warn(\n",
      "100%|████████████████████████████████████████████████████████████████████████████████| 828/828 [03:45<00:00,  3.66it/s]\n"
     ]
    }
   ],
   "source": [
    "preds_ = []\n",
    "with torch.no_grad():\n",
    "    for idx, row in tqdm(df_test.iterrows(), total=len(df_test)):\n",
    "        premise = row['text1']\n",
    "        hypothesis = row['text2']\n",
    "        \n",
    "        # Concatenate premise and hypothesis with separator\n",
    "        text = f\"{premise} [SEP] {hypothesis}\"\n",
    "        \n",
    "        # Perform zero-shot classification\n",
    "        prediction = classifier(text, my_l)\n",
    "        \n",
    "        # Retrieve the label with the highest score\n",
    "        predicted_label = prediction['labels'][np.argmax(prediction['scores'])]\n",
    "        preds_.append(predicted_label)"
   ]
  },
  {
   "cell_type": "code",
   "execution_count": 40,
   "id": "5c2337f4-a06e-4023-8de7-9c8b447799d8",
   "metadata": {},
   "outputs": [
    {
     "name": "stdout",
     "output_type": "stream",
     "text": [
      "                               precision    recall  f1-score   support\n",
      "\n",
      "   bipolar affective disorder       0.72      0.86      0.78        92\n",
      "                   depression       0.85      0.68      0.76       249\n",
      "              eating disorder       0.77      0.73      0.75       147\n",
      "obsessive-compulsive disorder       0.55      0.80      0.65        95\n",
      "                schizophrenia       0.80      0.79      0.80       245\n",
      "\n",
      "                     accuracy                           0.76       828\n",
      "                    macro avg       0.74      0.77      0.75       828\n",
      "                 weighted avg       0.77      0.76      0.76       828\n",
      "\n"
     ]
    }
   ],
   "source": [
    "print(classification_report(list(df_test['text2']), preds_, zero_division=0))"
   ]
  },
  {
   "cell_type": "code",
   "execution_count": null,
   "id": "10e44703-36d1-4232-a152-e02b9c7c38f8",
   "metadata": {},
   "outputs": [],
   "source": []
  }
 ],
 "metadata": {
  "kernelspec": {
   "display_name": "Python 3 (ipykernel)",
   "language": "python",
   "name": "python3"
  },
  "language_info": {
   "codemirror_mode": {
    "name": "ipython",
    "version": 3
   },
   "file_extension": ".py",
   "mimetype": "text/x-python",
   "name": "python",
   "nbconvert_exporter": "python",
   "pygments_lexer": "ipython3",
   "version": "3.9.16"
  }
 },
 "nbformat": 4,
 "nbformat_minor": 5
}
